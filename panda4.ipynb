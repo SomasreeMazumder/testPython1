{
 "cells": [
  {
   "cell_type": "code",
   "execution_count": 10,
   "id": "95fff0a5",
   "metadata": {},
   "outputs": [],
   "source": [
    "import numpy as np\n",
    "import pandas as pd"
   ]
  },
  {
   "cell_type": "code",
   "execution_count": 4,
   "id": "1e14101f",
   "metadata": {},
   "outputs": [
    {
     "data": {
      "text/html": [
       "<div>\n",
       "<style scoped>\n",
       "    .dataframe tbody tr th:only-of-type {\n",
       "        vertical-align: middle;\n",
       "    }\n",
       "\n",
       "    .dataframe tbody tr th {\n",
       "        vertical-align: top;\n",
       "    }\n",
       "\n",
       "    .dataframe thead th {\n",
       "        text-align: right;\n",
       "    }\n",
       "</style>\n",
       "<table border=\"1\" class=\"dataframe\">\n",
       "  <thead>\n",
       "    <tr style=\"text-align: right;\">\n",
       "      <th></th>\n",
       "      <th>col1</th>\n",
       "      <th>col2</th>\n",
       "      <th>col3</th>\n",
       "    </tr>\n",
       "  </thead>\n",
       "  <tbody>\n",
       "    <tr>\n",
       "      <th>0</th>\n",
       "      <td>1</td>\n",
       "      <td>444</td>\n",
       "      <td>abc</td>\n",
       "    </tr>\n",
       "    <tr>\n",
       "      <th>1</th>\n",
       "      <td>2</td>\n",
       "      <td>555</td>\n",
       "      <td>def</td>\n",
       "    </tr>\n",
       "    <tr>\n",
       "      <th>2</th>\n",
       "      <td>3</td>\n",
       "      <td>666</td>\n",
       "      <td>ghi</td>\n",
       "    </tr>\n",
       "    <tr>\n",
       "      <th>3</th>\n",
       "      <td>4</td>\n",
       "      <td>444</td>\n",
       "      <td>xyz</td>\n",
       "    </tr>\n",
       "  </tbody>\n",
       "</table>\n",
       "</div>"
      ],
      "text/plain": [
       "   col1  col2 col3\n",
       "0     1   444  abc\n",
       "1     2   555  def\n",
       "2     3   666  ghi\n",
       "3     4   444  xyz"
      ]
     },
     "execution_count": 4,
     "metadata": {},
     "output_type": "execute_result"
    }
   ],
   "source": [
    "df=pd.DataFrame({'col1':[1,2,3,4],\n",
    "                'col2':[444,555,666,444],\n",
    "                'col3':['abc','def','ghi','xyz']})\n",
    "df.head()"
   ]
  },
  {
   "cell_type": "code",
   "execution_count": 5,
   "id": "8aaf9b1b",
   "metadata": {},
   "outputs": [
    {
     "data": {
      "text/plain": [
       "array([444, 555, 666], dtype=int64)"
      ]
     },
     "execution_count": 5,
     "metadata": {},
     "output_type": "execute_result"
    }
   ],
   "source": [
    "df['col2'].unique()"
   ]
  },
  {
   "cell_type": "code",
   "execution_count": 6,
   "id": "8eb73dbc",
   "metadata": {},
   "outputs": [
    {
     "data": {
      "text/plain": [
       "3"
      ]
     },
     "execution_count": 6,
     "metadata": {},
     "output_type": "execute_result"
    }
   ],
   "source": [
    "#len(df['col2'].unique())\n",
    "df['col2'].nunique()"
   ]
  },
  {
   "cell_type": "code",
   "execution_count": 7,
   "id": "fd118e81",
   "metadata": {},
   "outputs": [
    {
     "data": {
      "text/plain": [
       "444    2\n",
       "666    1\n",
       "555    1\n",
       "Name: col2, dtype: int64"
      ]
     },
     "execution_count": 7,
     "metadata": {},
     "output_type": "execute_result"
    }
   ],
   "source": [
    "df['col2'].value_counts()"
   ]
  },
  {
   "cell_type": "code",
   "execution_count": 8,
   "id": "87431190",
   "metadata": {},
   "outputs": [
    {
     "data": {
      "text/html": [
       "<div>\n",
       "<style scoped>\n",
       "    .dataframe tbody tr th:only-of-type {\n",
       "        vertical-align: middle;\n",
       "    }\n",
       "\n",
       "    .dataframe tbody tr th {\n",
       "        vertical-align: top;\n",
       "    }\n",
       "\n",
       "    .dataframe thead th {\n",
       "        text-align: right;\n",
       "    }\n",
       "</style>\n",
       "<table border=\"1\" class=\"dataframe\">\n",
       "  <thead>\n",
       "    <tr style=\"text-align: right;\">\n",
       "      <th></th>\n",
       "      <th>col1</th>\n",
       "      <th>col2</th>\n",
       "      <th>col3</th>\n",
       "    </tr>\n",
       "  </thead>\n",
       "  <tbody>\n",
       "    <tr>\n",
       "      <th>2</th>\n",
       "      <td>3</td>\n",
       "      <td>666</td>\n",
       "      <td>ghi</td>\n",
       "    </tr>\n",
       "  </tbody>\n",
       "</table>\n",
       "</div>"
      ],
      "text/plain": [
       "   col1  col2 col3\n",
       "2     3   666  ghi"
      ]
     },
     "execution_count": 8,
     "metadata": {},
     "output_type": "execute_result"
    }
   ],
   "source": [
    "df[(df['col2']>500) & (df['col1']>2)]"
   ]
  },
  {
   "cell_type": "code",
   "execution_count": 9,
   "id": "32222210",
   "metadata": {},
   "outputs": [
    {
     "data": {
      "text/plain": [
       "0    False\n",
       "1     True\n",
       "2     True\n",
       "3    False\n",
       "Name: col2, dtype: bool"
      ]
     },
     "execution_count": 9,
     "metadata": {},
     "output_type": "execute_result"
    }
   ],
   "source": [
    "df['col2']>500"
   ]
  },
  {
   "cell_type": "code",
   "execution_count": 27,
   "id": "32e08bd3",
   "metadata": {},
   "outputs": [
    {
     "ename": "KeyError",
     "evalue": "'col1'",
     "output_type": "error",
     "traceback": [
      "\u001b[1;31m---------------------------------------------------------------------------\u001b[0m",
      "\u001b[1;31mKeyError\u001b[0m                                  Traceback (most recent call last)",
      "\u001b[1;32m~\\anaconda3\\lib\\site-packages\\pandas\\core\\indexes\\base.py\u001b[0m in \u001b[0;36mget_loc\u001b[1;34m(self, key, method, tolerance)\u001b[0m\n\u001b[0;32m   3079\u001b[0m             \u001b[1;32mtry\u001b[0m\u001b[1;33m:\u001b[0m\u001b[1;33m\u001b[0m\u001b[1;33m\u001b[0m\u001b[0m\n\u001b[1;32m-> 3080\u001b[1;33m                 \u001b[1;32mreturn\u001b[0m \u001b[0mself\u001b[0m\u001b[1;33m.\u001b[0m\u001b[0m_engine\u001b[0m\u001b[1;33m.\u001b[0m\u001b[0mget_loc\u001b[0m\u001b[1;33m(\u001b[0m\u001b[0mcasted_key\u001b[0m\u001b[1;33m)\u001b[0m\u001b[1;33m\u001b[0m\u001b[1;33m\u001b[0m\u001b[0m\n\u001b[0m\u001b[0;32m   3081\u001b[0m             \u001b[1;32mexcept\u001b[0m \u001b[0mKeyError\u001b[0m \u001b[1;32mas\u001b[0m \u001b[0merr\u001b[0m\u001b[1;33m:\u001b[0m\u001b[1;33m\u001b[0m\u001b[1;33m\u001b[0m\u001b[0m\n",
      "\u001b[1;32mpandas\\_libs\\index.pyx\u001b[0m in \u001b[0;36mpandas._libs.index.IndexEngine.get_loc\u001b[1;34m()\u001b[0m\n",
      "\u001b[1;32mpandas\\_libs\\index.pyx\u001b[0m in \u001b[0;36mpandas._libs.index.IndexEngine.get_loc\u001b[1;34m()\u001b[0m\n",
      "\u001b[1;32mpandas\\_libs\\hashtable_class_helper.pxi\u001b[0m in \u001b[0;36mpandas._libs.hashtable.PyObjectHashTable.get_item\u001b[1;34m()\u001b[0m\n",
      "\u001b[1;32mpandas\\_libs\\hashtable_class_helper.pxi\u001b[0m in \u001b[0;36mpandas._libs.hashtable.PyObjectHashTable.get_item\u001b[1;34m()\u001b[0m\n",
      "\u001b[1;31mKeyError\u001b[0m: 'col1'",
      "\nThe above exception was the direct cause of the following exception:\n",
      "\u001b[1;31mKeyError\u001b[0m                                  Traceback (most recent call last)",
      "\u001b[1;32m<ipython-input-27-e4a16467ab79>\u001b[0m in \u001b[0;36m<module>\u001b[1;34m\u001b[0m\n\u001b[1;32m----> 1\u001b[1;33m \u001b[0mdf\u001b[0m\u001b[1;33m[\u001b[0m\u001b[1;33m(\u001b[0m\u001b[0mdf\u001b[0m\u001b[1;33m[\u001b[0m\u001b[1;34m'col2'\u001b[0m\u001b[1;33m]\u001b[0m\u001b[1;33m>\u001b[0m\u001b[1;36m500\u001b[0m\u001b[1;33m)\u001b[0m \u001b[1;33m|\u001b[0m \u001b[1;33m(\u001b[0m\u001b[0mdf\u001b[0m\u001b[1;33m[\u001b[0m\u001b[1;34m'col1'\u001b[0m\u001b[1;33m]\u001b[0m\u001b[1;33m>\u001b[0m\u001b[1;36m2\u001b[0m\u001b[1;33m)\u001b[0m\u001b[1;33m]\u001b[0m\u001b[1;33m\u001b[0m\u001b[1;33m\u001b[0m\u001b[0m\n\u001b[0m",
      "\u001b[1;32m~\\anaconda3\\lib\\site-packages\\pandas\\core\\frame.py\u001b[0m in \u001b[0;36m__getitem__\u001b[1;34m(self, key)\u001b[0m\n\u001b[0;32m   3022\u001b[0m             \u001b[1;32mif\u001b[0m \u001b[0mself\u001b[0m\u001b[1;33m.\u001b[0m\u001b[0mcolumns\u001b[0m\u001b[1;33m.\u001b[0m\u001b[0mnlevels\u001b[0m \u001b[1;33m>\u001b[0m \u001b[1;36m1\u001b[0m\u001b[1;33m:\u001b[0m\u001b[1;33m\u001b[0m\u001b[1;33m\u001b[0m\u001b[0m\n\u001b[0;32m   3023\u001b[0m                 \u001b[1;32mreturn\u001b[0m \u001b[0mself\u001b[0m\u001b[1;33m.\u001b[0m\u001b[0m_getitem_multilevel\u001b[0m\u001b[1;33m(\u001b[0m\u001b[0mkey\u001b[0m\u001b[1;33m)\u001b[0m\u001b[1;33m\u001b[0m\u001b[1;33m\u001b[0m\u001b[0m\n\u001b[1;32m-> 3024\u001b[1;33m             \u001b[0mindexer\u001b[0m \u001b[1;33m=\u001b[0m \u001b[0mself\u001b[0m\u001b[1;33m.\u001b[0m\u001b[0mcolumns\u001b[0m\u001b[1;33m.\u001b[0m\u001b[0mget_loc\u001b[0m\u001b[1;33m(\u001b[0m\u001b[0mkey\u001b[0m\u001b[1;33m)\u001b[0m\u001b[1;33m\u001b[0m\u001b[1;33m\u001b[0m\u001b[0m\n\u001b[0m\u001b[0;32m   3025\u001b[0m             \u001b[1;32mif\u001b[0m \u001b[0mis_integer\u001b[0m\u001b[1;33m(\u001b[0m\u001b[0mindexer\u001b[0m\u001b[1;33m)\u001b[0m\u001b[1;33m:\u001b[0m\u001b[1;33m\u001b[0m\u001b[1;33m\u001b[0m\u001b[0m\n\u001b[0;32m   3026\u001b[0m                 \u001b[0mindexer\u001b[0m \u001b[1;33m=\u001b[0m \u001b[1;33m[\u001b[0m\u001b[0mindexer\u001b[0m\u001b[1;33m]\u001b[0m\u001b[1;33m\u001b[0m\u001b[1;33m\u001b[0m\u001b[0m\n",
      "\u001b[1;32m~\\anaconda3\\lib\\site-packages\\pandas\\core\\indexes\\base.py\u001b[0m in \u001b[0;36mget_loc\u001b[1;34m(self, key, method, tolerance)\u001b[0m\n\u001b[0;32m   3080\u001b[0m                 \u001b[1;32mreturn\u001b[0m \u001b[0mself\u001b[0m\u001b[1;33m.\u001b[0m\u001b[0m_engine\u001b[0m\u001b[1;33m.\u001b[0m\u001b[0mget_loc\u001b[0m\u001b[1;33m(\u001b[0m\u001b[0mcasted_key\u001b[0m\u001b[1;33m)\u001b[0m\u001b[1;33m\u001b[0m\u001b[1;33m\u001b[0m\u001b[0m\n\u001b[0;32m   3081\u001b[0m             \u001b[1;32mexcept\u001b[0m \u001b[0mKeyError\u001b[0m \u001b[1;32mas\u001b[0m \u001b[0merr\u001b[0m\u001b[1;33m:\u001b[0m\u001b[1;33m\u001b[0m\u001b[1;33m\u001b[0m\u001b[0m\n\u001b[1;32m-> 3082\u001b[1;33m                 \u001b[1;32mraise\u001b[0m \u001b[0mKeyError\u001b[0m\u001b[1;33m(\u001b[0m\u001b[0mkey\u001b[0m\u001b[1;33m)\u001b[0m \u001b[1;32mfrom\u001b[0m \u001b[0merr\u001b[0m\u001b[1;33m\u001b[0m\u001b[1;33m\u001b[0m\u001b[0m\n\u001b[0m\u001b[0;32m   3083\u001b[0m \u001b[1;33m\u001b[0m\u001b[0m\n\u001b[0;32m   3084\u001b[0m         \u001b[1;32mif\u001b[0m \u001b[0mtolerance\u001b[0m \u001b[1;32mis\u001b[0m \u001b[1;32mnot\u001b[0m \u001b[1;32mNone\u001b[0m\u001b[1;33m:\u001b[0m\u001b[1;33m\u001b[0m\u001b[1;33m\u001b[0m\u001b[0m\n",
      "\u001b[1;31mKeyError\u001b[0m: 'col1'"
     ]
    }
   ],
   "source": [
    "df[(df['col2']>500) | (df['col1']>2)]"
   ]
  },
  {
   "cell_type": "code",
   "execution_count": 1,
   "id": "83776f81",
   "metadata": {},
   "outputs": [],
   "source": [
    "def times2(x):\n",
    "    return x*2"
   ]
  },
  {
   "cell_type": "code",
   "execution_count": 11,
   "id": "f4289275",
   "metadata": {},
   "outputs": [
    {
     "data": {
      "text/plain": [
       "10"
      ]
     },
     "execution_count": 11,
     "metadata": {},
     "output_type": "execute_result"
    }
   ],
   "source": [
    "df['col1'].sum()"
   ]
  },
  {
   "cell_type": "code",
   "execution_count": 12,
   "id": "2772170d",
   "metadata": {},
   "outputs": [
    {
     "data": {
      "text/plain": [
       "0    2\n",
       "1    4\n",
       "2    6\n",
       "3    8\n",
       "Name: col1, dtype: int64"
      ]
     },
     "execution_count": 12,
     "metadata": {},
     "output_type": "execute_result"
    }
   ],
   "source": [
    "df['col1'].apply(times2)"
   ]
  },
  {
   "cell_type": "code",
   "execution_count": 14,
   "id": "31295f60",
   "metadata": {},
   "outputs": [
    {
     "data": {
      "text/plain": [
       "0    3\n",
       "1    3\n",
       "2    3\n",
       "3    3\n",
       "Name: col3, dtype: int64"
      ]
     },
     "execution_count": 14,
     "metadata": {},
     "output_type": "execute_result"
    }
   ],
   "source": [
    "df['col3'].apply(len)"
   ]
  },
  {
   "cell_type": "code",
   "execution_count": 15,
   "id": "fba6b9ad",
   "metadata": {},
   "outputs": [
    {
     "data": {
      "text/plain": [
       "0    abcabc\n",
       "1    defdef\n",
       "2    ghighi\n",
       "3    xyzxyz\n",
       "Name: col3, dtype: object"
      ]
     },
     "execution_count": 15,
     "metadata": {},
     "output_type": "execute_result"
    }
   ],
   "source": [
    "df['col3'].apply(lambda x:x*2)"
   ]
  },
  {
   "cell_type": "code",
   "execution_count": 16,
   "id": "51497d41",
   "metadata": {},
   "outputs": [
    {
     "data": {
      "text/plain": [
       "0     888\n",
       "1    1110\n",
       "2    1332\n",
       "3     888\n",
       "Name: col2, dtype: int64"
      ]
     },
     "execution_count": 16,
     "metadata": {},
     "output_type": "execute_result"
    }
   ],
   "source": [
    "df['col2'].apply(lambda x:x*2)"
   ]
  },
  {
   "cell_type": "code",
   "execution_count": 17,
   "id": "6279755a",
   "metadata": {},
   "outputs": [
    {
     "data": {
      "text/plain": [
       "0     888\n",
       "1    1110\n",
       "2    1332\n",
       "3     888\n",
       "Name: col2, dtype: int64"
      ]
     },
     "execution_count": 17,
     "metadata": {},
     "output_type": "execute_result"
    }
   ],
   "source": [
    "df['col2'].apply(times2)"
   ]
  },
  {
   "cell_type": "code",
   "execution_count": 38,
   "id": "3e935d40",
   "metadata": {},
   "outputs": [
    {
     "data": {
      "text/html": [
       "<div>\n",
       "<style scoped>\n",
       "    .dataframe tbody tr th:only-of-type {\n",
       "        vertical-align: middle;\n",
       "    }\n",
       "\n",
       "    .dataframe tbody tr th {\n",
       "        vertical-align: top;\n",
       "    }\n",
       "\n",
       "    .dataframe thead th {\n",
       "        text-align: right;\n",
       "    }\n",
       "</style>\n",
       "<table border=\"1\" class=\"dataframe\">\n",
       "  <thead>\n",
       "    <tr style=\"text-align: right;\">\n",
       "      <th></th>\n",
       "      <th>col2</th>\n",
       "      <th>col3</th>\n",
       "      <th>col1</th>\n",
       "    </tr>\n",
       "  </thead>\n",
       "  <tbody>\n",
       "    <tr>\n",
       "      <th>0</th>\n",
       "      <td>444</td>\n",
       "      <td>abc</td>\n",
       "      <td>1</td>\n",
       "    </tr>\n",
       "    <tr>\n",
       "      <th>1</th>\n",
       "      <td>555</td>\n",
       "      <td>def</td>\n",
       "      <td>2</td>\n",
       "    </tr>\n",
       "    <tr>\n",
       "      <th>2</th>\n",
       "      <td>666</td>\n",
       "      <td>ghi</td>\n",
       "      <td>3</td>\n",
       "    </tr>\n",
       "    <tr>\n",
       "      <th>3</th>\n",
       "      <td>444</td>\n",
       "      <td>xyz</td>\n",
       "      <td>4</td>\n",
       "    </tr>\n",
       "  </tbody>\n",
       "</table>\n",
       "</div>"
      ],
      "text/plain": [
       "   col2 col3  col1\n",
       "0   444  abc     1\n",
       "1   555  def     2\n",
       "2   666  ghi     3\n",
       "3   444  xyz     4"
      ]
     },
     "execution_count": 38,
     "metadata": {},
     "output_type": "execute_result"
    }
   ],
   "source": [
    "col_new=[1,2,3,4]\n",
    "df2=df.assign(col1=col_new)\n",
    "df2"
   ]
  },
  {
   "cell_type": "code",
   "execution_count": 42,
   "id": "4f26fbe6",
   "metadata": {},
   "outputs": [
    {
     "data": {
      "text/plain": [
       "Index(['col2', 'col3', 'col1'], dtype='object')"
      ]
     },
     "execution_count": 42,
     "metadata": {},
     "output_type": "execute_result"
    }
   ],
   "source": [
    "df2.columns"
   ]
  },
  {
   "cell_type": "code",
   "execution_count": 43,
   "id": "998d4e95",
   "metadata": {},
   "outputs": [
    {
     "data": {
      "text/plain": [
       "RangeIndex(start=0, stop=4, step=1)"
      ]
     },
     "execution_count": 43,
     "metadata": {},
     "output_type": "execute_result"
    }
   ],
   "source": [
    "df2.index"
   ]
  },
  {
   "cell_type": "code",
   "execution_count": 44,
   "id": "3acfb729",
   "metadata": {},
   "outputs": [
    {
     "data": {
      "text/html": [
       "<div>\n",
       "<style scoped>\n",
       "    .dataframe tbody tr th:only-of-type {\n",
       "        vertical-align: middle;\n",
       "    }\n",
       "\n",
       "    .dataframe tbody tr th {\n",
       "        vertical-align: top;\n",
       "    }\n",
       "\n",
       "    .dataframe thead th {\n",
       "        text-align: right;\n",
       "    }\n",
       "</style>\n",
       "<table border=\"1\" class=\"dataframe\">\n",
       "  <thead>\n",
       "    <tr style=\"text-align: right;\">\n",
       "      <th></th>\n",
       "      <th>col2</th>\n",
       "      <th>col3</th>\n",
       "      <th>col1</th>\n",
       "    </tr>\n",
       "  </thead>\n",
       "  <tbody>\n",
       "    <tr>\n",
       "      <th>0</th>\n",
       "      <td>444</td>\n",
       "      <td>abc</td>\n",
       "      <td>1</td>\n",
       "    </tr>\n",
       "    <tr>\n",
       "      <th>1</th>\n",
       "      <td>555</td>\n",
       "      <td>def</td>\n",
       "      <td>2</td>\n",
       "    </tr>\n",
       "    <tr>\n",
       "      <th>2</th>\n",
       "      <td>666</td>\n",
       "      <td>ghi</td>\n",
       "      <td>3</td>\n",
       "    </tr>\n",
       "    <tr>\n",
       "      <th>3</th>\n",
       "      <td>444</td>\n",
       "      <td>xyz</td>\n",
       "      <td>4</td>\n",
       "    </tr>\n",
       "  </tbody>\n",
       "</table>\n",
       "</div>"
      ],
      "text/plain": [
       "   col2 col3  col1\n",
       "0   444  abc     1\n",
       "1   555  def     2\n",
       "2   666  ghi     3\n",
       "3   444  xyz     4"
      ]
     },
     "execution_count": 44,
     "metadata": {},
     "output_type": "execute_result"
    }
   ],
   "source": [
    "df2 "
   ]
  },
  {
   "cell_type": "code",
   "execution_count": 45,
   "id": "f1b0d830",
   "metadata": {},
   "outputs": [
    {
     "data": {
      "text/html": [
       "<div>\n",
       "<style scoped>\n",
       "    .dataframe tbody tr th:only-of-type {\n",
       "        vertical-align: middle;\n",
       "    }\n",
       "\n",
       "    .dataframe tbody tr th {\n",
       "        vertical-align: top;\n",
       "    }\n",
       "\n",
       "    .dataframe thead th {\n",
       "        text-align: right;\n",
       "    }\n",
       "</style>\n",
       "<table border=\"1\" class=\"dataframe\">\n",
       "  <thead>\n",
       "    <tr style=\"text-align: right;\">\n",
       "      <th></th>\n",
       "      <th>col2</th>\n",
       "      <th>col3</th>\n",
       "      <th>col1</th>\n",
       "    </tr>\n",
       "  </thead>\n",
       "  <tbody>\n",
       "    <tr>\n",
       "      <th>0</th>\n",
       "      <td>444</td>\n",
       "      <td>abc</td>\n",
       "      <td>1</td>\n",
       "    </tr>\n",
       "    <tr>\n",
       "      <th>3</th>\n",
       "      <td>444</td>\n",
       "      <td>xyz</td>\n",
       "      <td>4</td>\n",
       "    </tr>\n",
       "    <tr>\n",
       "      <th>1</th>\n",
       "      <td>555</td>\n",
       "      <td>def</td>\n",
       "      <td>2</td>\n",
       "    </tr>\n",
       "    <tr>\n",
       "      <th>2</th>\n",
       "      <td>666</td>\n",
       "      <td>ghi</td>\n",
       "      <td>3</td>\n",
       "    </tr>\n",
       "  </tbody>\n",
       "</table>\n",
       "</div>"
      ],
      "text/plain": [
       "   col2 col3  col1\n",
       "0   444  abc     1\n",
       "3   444  xyz     4\n",
       "1   555  def     2\n",
       "2   666  ghi     3"
      ]
     },
     "execution_count": 45,
     "metadata": {},
     "output_type": "execute_result"
    }
   ],
   "source": [
    "df2.sort_values('col2')"
   ]
  },
  {
   "cell_type": "code",
   "execution_count": 46,
   "id": "0731145e",
   "metadata": {},
   "outputs": [
    {
     "data": {
      "text/html": [
       "<div>\n",
       "<style scoped>\n",
       "    .dataframe tbody tr th:only-of-type {\n",
       "        vertical-align: middle;\n",
       "    }\n",
       "\n",
       "    .dataframe tbody tr th {\n",
       "        vertical-align: top;\n",
       "    }\n",
       "\n",
       "    .dataframe thead th {\n",
       "        text-align: right;\n",
       "    }\n",
       "</style>\n",
       "<table border=\"1\" class=\"dataframe\">\n",
       "  <thead>\n",
       "    <tr style=\"text-align: right;\">\n",
       "      <th></th>\n",
       "      <th>col2</th>\n",
       "      <th>col3</th>\n",
       "      <th>col1</th>\n",
       "    </tr>\n",
       "  </thead>\n",
       "  <tbody>\n",
       "    <tr>\n",
       "      <th>0</th>\n",
       "      <td>False</td>\n",
       "      <td>False</td>\n",
       "      <td>False</td>\n",
       "    </tr>\n",
       "    <tr>\n",
       "      <th>1</th>\n",
       "      <td>False</td>\n",
       "      <td>False</td>\n",
       "      <td>False</td>\n",
       "    </tr>\n",
       "    <tr>\n",
       "      <th>2</th>\n",
       "      <td>False</td>\n",
       "      <td>False</td>\n",
       "      <td>False</td>\n",
       "    </tr>\n",
       "    <tr>\n",
       "      <th>3</th>\n",
       "      <td>False</td>\n",
       "      <td>False</td>\n",
       "      <td>False</td>\n",
       "    </tr>\n",
       "  </tbody>\n",
       "</table>\n",
       "</div>"
      ],
      "text/plain": [
       "    col2   col3   col1\n",
       "0  False  False  False\n",
       "1  False  False  False\n",
       "2  False  False  False\n",
       "3  False  False  False"
      ]
     },
     "execution_count": 46,
     "metadata": {},
     "output_type": "execute_result"
    }
   ],
   "source": [
    "df2.isnull()"
   ]
  },
  {
   "cell_type": "code",
   "execution_count": 48,
   "id": "d6047eee",
   "metadata": {},
   "outputs": [],
   "source": [
    "data={'A':['foo','foo','foo','bar','bar','bar'],\n",
    "     'B':['one','one','two','two','one','one'],\n",
    "     'C':['x','y','x','y','x','y'],\n",
    "     'D':[1,3,2,5,4,1]}"
   ]
  },
  {
   "cell_type": "code",
   "execution_count": 52,
   "id": "3398fa20",
   "metadata": {},
   "outputs": [],
   "source": [
    "df=pd.DataFrame(data)"
   ]
  },
  {
   "cell_type": "code",
   "execution_count": 53,
   "id": "950495ed",
   "metadata": {},
   "outputs": [
    {
     "data": {
      "text/html": [
       "<div>\n",
       "<style scoped>\n",
       "    .dataframe tbody tr th:only-of-type {\n",
       "        vertical-align: middle;\n",
       "    }\n",
       "\n",
       "    .dataframe tbody tr th {\n",
       "        vertical-align: top;\n",
       "    }\n",
       "\n",
       "    .dataframe thead th {\n",
       "        text-align: right;\n",
       "    }\n",
       "</style>\n",
       "<table border=\"1\" class=\"dataframe\">\n",
       "  <thead>\n",
       "    <tr style=\"text-align: right;\">\n",
       "      <th></th>\n",
       "      <th>A</th>\n",
       "      <th>B</th>\n",
       "      <th>C</th>\n",
       "      <th>D</th>\n",
       "    </tr>\n",
       "  </thead>\n",
       "  <tbody>\n",
       "    <tr>\n",
       "      <th>0</th>\n",
       "      <td>foo</td>\n",
       "      <td>one</td>\n",
       "      <td>x</td>\n",
       "      <td>1</td>\n",
       "    </tr>\n",
       "    <tr>\n",
       "      <th>1</th>\n",
       "      <td>foo</td>\n",
       "      <td>one</td>\n",
       "      <td>y</td>\n",
       "      <td>3</td>\n",
       "    </tr>\n",
       "    <tr>\n",
       "      <th>2</th>\n",
       "      <td>foo</td>\n",
       "      <td>two</td>\n",
       "      <td>x</td>\n",
       "      <td>2</td>\n",
       "    </tr>\n",
       "    <tr>\n",
       "      <th>3</th>\n",
       "      <td>bar</td>\n",
       "      <td>two</td>\n",
       "      <td>y</td>\n",
       "      <td>5</td>\n",
       "    </tr>\n",
       "    <tr>\n",
       "      <th>4</th>\n",
       "      <td>bar</td>\n",
       "      <td>one</td>\n",
       "      <td>x</td>\n",
       "      <td>4</td>\n",
       "    </tr>\n",
       "    <tr>\n",
       "      <th>5</th>\n",
       "      <td>bar</td>\n",
       "      <td>one</td>\n",
       "      <td>y</td>\n",
       "      <td>1</td>\n",
       "    </tr>\n",
       "  </tbody>\n",
       "</table>\n",
       "</div>"
      ],
      "text/plain": [
       "     A    B  C  D\n",
       "0  foo  one  x  1\n",
       "1  foo  one  y  3\n",
       "2  foo  two  x  2\n",
       "3  bar  two  y  5\n",
       "4  bar  one  x  4\n",
       "5  bar  one  y  1"
      ]
     },
     "execution_count": 53,
     "metadata": {},
     "output_type": "execute_result"
    }
   ],
   "source": [
    "df"
   ]
  },
  {
   "cell_type": "code",
   "execution_count": 54,
   "id": "92a40e26",
   "metadata": {},
   "outputs": [
    {
     "data": {
      "text/html": [
       "<div>\n",
       "<style scoped>\n",
       "    .dataframe tbody tr th:only-of-type {\n",
       "        vertical-align: middle;\n",
       "    }\n",
       "\n",
       "    .dataframe tbody tr th {\n",
       "        vertical-align: top;\n",
       "    }\n",
       "\n",
       "    .dataframe thead th {\n",
       "        text-align: right;\n",
       "    }\n",
       "</style>\n",
       "<table border=\"1\" class=\"dataframe\">\n",
       "  <thead>\n",
       "    <tr style=\"text-align: right;\">\n",
       "      <th></th>\n",
       "      <th>C</th>\n",
       "      <th>x</th>\n",
       "      <th>y</th>\n",
       "    </tr>\n",
       "    <tr>\n",
       "      <th>A</th>\n",
       "      <th>B</th>\n",
       "      <th></th>\n",
       "      <th></th>\n",
       "    </tr>\n",
       "  </thead>\n",
       "  <tbody>\n",
       "    <tr>\n",
       "      <th rowspan=\"2\" valign=\"top\">bar</th>\n",
       "      <th>one</th>\n",
       "      <td>4.0</td>\n",
       "      <td>1.0</td>\n",
       "    </tr>\n",
       "    <tr>\n",
       "      <th>two</th>\n",
       "      <td>NaN</td>\n",
       "      <td>5.0</td>\n",
       "    </tr>\n",
       "    <tr>\n",
       "      <th rowspan=\"2\" valign=\"top\">foo</th>\n",
       "      <th>one</th>\n",
       "      <td>1.0</td>\n",
       "      <td>3.0</td>\n",
       "    </tr>\n",
       "    <tr>\n",
       "      <th>two</th>\n",
       "      <td>2.0</td>\n",
       "      <td>NaN</td>\n",
       "    </tr>\n",
       "  </tbody>\n",
       "</table>\n",
       "</div>"
      ],
      "text/plain": [
       "C          x    y\n",
       "A   B            \n",
       "bar one  4.0  1.0\n",
       "    two  NaN  5.0\n",
       "foo one  1.0  3.0\n",
       "    two  2.0  NaN"
      ]
     },
     "execution_count": 54,
     "metadata": {},
     "output_type": "execute_result"
    }
   ],
   "source": [
    "df.pivot_table(values='D',index=['A','B'],columns=['C'])"
   ]
  },
  {
   "cell_type": "code",
   "execution_count": 55,
   "id": "e3e88f4e",
   "metadata": {},
   "outputs": [],
   "source": [
    "import pandas as pd"
   ]
  },
  {
   "cell_type": "code",
   "execution_count": 56,
   "id": "53bae022",
   "metadata": {},
   "outputs": [
    {
     "data": {
      "text/plain": [
       "'C:\\\\Users\\\\Nilay Mazumder'"
      ]
     },
     "execution_count": 56,
     "metadata": {},
     "output_type": "execute_result"
    }
   ],
   "source": [
    "pwd"
   ]
  },
  {
   "cell_type": "code",
   "execution_count": 57,
   "id": "49c68c48",
   "metadata": {},
   "outputs": [
    {
     "ename": "FileNotFoundError",
     "evalue": "[Errno 2] No such file or directory: 'example.csv'",
     "output_type": "error",
     "traceback": [
      "\u001b[1;31m---------------------------------------------------------------------------\u001b[0m",
      "\u001b[1;31mFileNotFoundError\u001b[0m                         Traceback (most recent call last)",
      "\u001b[1;32m<ipython-input-57-4eca52408889>\u001b[0m in \u001b[0;36m<module>\u001b[1;34m\u001b[0m\n\u001b[1;32m----> 1\u001b[1;33m \u001b[0mpd\u001b[0m\u001b[1;33m.\u001b[0m\u001b[0mread_csv\u001b[0m\u001b[1;33m(\u001b[0m\u001b[1;34m'example.csv'\u001b[0m\u001b[1;33m)\u001b[0m\u001b[1;33m\u001b[0m\u001b[1;33m\u001b[0m\u001b[0m\n\u001b[0m",
      "\u001b[1;32m~\\anaconda3\\lib\\site-packages\\pandas\\io\\parsers.py\u001b[0m in \u001b[0;36mread_csv\u001b[1;34m(filepath_or_buffer, sep, delimiter, header, names, index_col, usecols, squeeze, prefix, mangle_dupe_cols, dtype, engine, converters, true_values, false_values, skipinitialspace, skiprows, skipfooter, nrows, na_values, keep_default_na, na_filter, verbose, skip_blank_lines, parse_dates, infer_datetime_format, keep_date_col, date_parser, dayfirst, cache_dates, iterator, chunksize, compression, thousands, decimal, lineterminator, quotechar, quoting, doublequote, escapechar, comment, encoding, dialect, error_bad_lines, warn_bad_lines, delim_whitespace, low_memory, memory_map, float_precision, storage_options)\u001b[0m\n\u001b[0;32m    608\u001b[0m     \u001b[0mkwds\u001b[0m\u001b[1;33m.\u001b[0m\u001b[0mupdate\u001b[0m\u001b[1;33m(\u001b[0m\u001b[0mkwds_defaults\u001b[0m\u001b[1;33m)\u001b[0m\u001b[1;33m\u001b[0m\u001b[1;33m\u001b[0m\u001b[0m\n\u001b[0;32m    609\u001b[0m \u001b[1;33m\u001b[0m\u001b[0m\n\u001b[1;32m--> 610\u001b[1;33m     \u001b[1;32mreturn\u001b[0m \u001b[0m_read\u001b[0m\u001b[1;33m(\u001b[0m\u001b[0mfilepath_or_buffer\u001b[0m\u001b[1;33m,\u001b[0m \u001b[0mkwds\u001b[0m\u001b[1;33m)\u001b[0m\u001b[1;33m\u001b[0m\u001b[1;33m\u001b[0m\u001b[0m\n\u001b[0m\u001b[0;32m    611\u001b[0m \u001b[1;33m\u001b[0m\u001b[0m\n\u001b[0;32m    612\u001b[0m \u001b[1;33m\u001b[0m\u001b[0m\n",
      "\u001b[1;32m~\\anaconda3\\lib\\site-packages\\pandas\\io\\parsers.py\u001b[0m in \u001b[0;36m_read\u001b[1;34m(filepath_or_buffer, kwds)\u001b[0m\n\u001b[0;32m    460\u001b[0m \u001b[1;33m\u001b[0m\u001b[0m\n\u001b[0;32m    461\u001b[0m     \u001b[1;31m# Create the parser.\u001b[0m\u001b[1;33m\u001b[0m\u001b[1;33m\u001b[0m\u001b[1;33m\u001b[0m\u001b[0m\n\u001b[1;32m--> 462\u001b[1;33m     \u001b[0mparser\u001b[0m \u001b[1;33m=\u001b[0m \u001b[0mTextFileReader\u001b[0m\u001b[1;33m(\u001b[0m\u001b[0mfilepath_or_buffer\u001b[0m\u001b[1;33m,\u001b[0m \u001b[1;33m**\u001b[0m\u001b[0mkwds\u001b[0m\u001b[1;33m)\u001b[0m\u001b[1;33m\u001b[0m\u001b[1;33m\u001b[0m\u001b[0m\n\u001b[0m\u001b[0;32m    463\u001b[0m \u001b[1;33m\u001b[0m\u001b[0m\n\u001b[0;32m    464\u001b[0m     \u001b[1;32mif\u001b[0m \u001b[0mchunksize\u001b[0m \u001b[1;32mor\u001b[0m \u001b[0miterator\u001b[0m\u001b[1;33m:\u001b[0m\u001b[1;33m\u001b[0m\u001b[1;33m\u001b[0m\u001b[0m\n",
      "\u001b[1;32m~\\anaconda3\\lib\\site-packages\\pandas\\io\\parsers.py\u001b[0m in \u001b[0;36m__init__\u001b[1;34m(self, f, engine, **kwds)\u001b[0m\n\u001b[0;32m    817\u001b[0m             \u001b[0mself\u001b[0m\u001b[1;33m.\u001b[0m\u001b[0moptions\u001b[0m\u001b[1;33m[\u001b[0m\u001b[1;34m\"has_index_names\"\u001b[0m\u001b[1;33m]\u001b[0m \u001b[1;33m=\u001b[0m \u001b[0mkwds\u001b[0m\u001b[1;33m[\u001b[0m\u001b[1;34m\"has_index_names\"\u001b[0m\u001b[1;33m]\u001b[0m\u001b[1;33m\u001b[0m\u001b[1;33m\u001b[0m\u001b[0m\n\u001b[0;32m    818\u001b[0m \u001b[1;33m\u001b[0m\u001b[0m\n\u001b[1;32m--> 819\u001b[1;33m         \u001b[0mself\u001b[0m\u001b[1;33m.\u001b[0m\u001b[0m_engine\u001b[0m \u001b[1;33m=\u001b[0m \u001b[0mself\u001b[0m\u001b[1;33m.\u001b[0m\u001b[0m_make_engine\u001b[0m\u001b[1;33m(\u001b[0m\u001b[0mself\u001b[0m\u001b[1;33m.\u001b[0m\u001b[0mengine\u001b[0m\u001b[1;33m)\u001b[0m\u001b[1;33m\u001b[0m\u001b[1;33m\u001b[0m\u001b[0m\n\u001b[0m\u001b[0;32m    820\u001b[0m \u001b[1;33m\u001b[0m\u001b[0m\n\u001b[0;32m    821\u001b[0m     \u001b[1;32mdef\u001b[0m \u001b[0mclose\u001b[0m\u001b[1;33m(\u001b[0m\u001b[0mself\u001b[0m\u001b[1;33m)\u001b[0m\u001b[1;33m:\u001b[0m\u001b[1;33m\u001b[0m\u001b[1;33m\u001b[0m\u001b[0m\n",
      "\u001b[1;32m~\\anaconda3\\lib\\site-packages\\pandas\\io\\parsers.py\u001b[0m in \u001b[0;36m_make_engine\u001b[1;34m(self, engine)\u001b[0m\n\u001b[0;32m   1048\u001b[0m             )\n\u001b[0;32m   1049\u001b[0m         \u001b[1;31m# error: Too many arguments for \"ParserBase\"\u001b[0m\u001b[1;33m\u001b[0m\u001b[1;33m\u001b[0m\u001b[1;33m\u001b[0m\u001b[0m\n\u001b[1;32m-> 1050\u001b[1;33m         \u001b[1;32mreturn\u001b[0m \u001b[0mmapping\u001b[0m\u001b[1;33m[\u001b[0m\u001b[0mengine\u001b[0m\u001b[1;33m]\u001b[0m\u001b[1;33m(\u001b[0m\u001b[0mself\u001b[0m\u001b[1;33m.\u001b[0m\u001b[0mf\u001b[0m\u001b[1;33m,\u001b[0m \u001b[1;33m**\u001b[0m\u001b[0mself\u001b[0m\u001b[1;33m.\u001b[0m\u001b[0moptions\u001b[0m\u001b[1;33m)\u001b[0m  \u001b[1;31m# type: ignore[call-arg]\u001b[0m\u001b[1;33m\u001b[0m\u001b[1;33m\u001b[0m\u001b[0m\n\u001b[0m\u001b[0;32m   1051\u001b[0m \u001b[1;33m\u001b[0m\u001b[0m\n\u001b[0;32m   1052\u001b[0m     \u001b[1;32mdef\u001b[0m \u001b[0m_failover_to_python\u001b[0m\u001b[1;33m(\u001b[0m\u001b[0mself\u001b[0m\u001b[1;33m)\u001b[0m\u001b[1;33m:\u001b[0m\u001b[1;33m\u001b[0m\u001b[1;33m\u001b[0m\u001b[0m\n",
      "\u001b[1;32m~\\anaconda3\\lib\\site-packages\\pandas\\io\\parsers.py\u001b[0m in \u001b[0;36m__init__\u001b[1;34m(self, src, **kwds)\u001b[0m\n\u001b[0;32m   1865\u001b[0m \u001b[1;33m\u001b[0m\u001b[0m\n\u001b[0;32m   1866\u001b[0m         \u001b[1;31m# open handles\u001b[0m\u001b[1;33m\u001b[0m\u001b[1;33m\u001b[0m\u001b[1;33m\u001b[0m\u001b[0m\n\u001b[1;32m-> 1867\u001b[1;33m         \u001b[0mself\u001b[0m\u001b[1;33m.\u001b[0m\u001b[0m_open_handles\u001b[0m\u001b[1;33m(\u001b[0m\u001b[0msrc\u001b[0m\u001b[1;33m,\u001b[0m \u001b[0mkwds\u001b[0m\u001b[1;33m)\u001b[0m\u001b[1;33m\u001b[0m\u001b[1;33m\u001b[0m\u001b[0m\n\u001b[0m\u001b[0;32m   1868\u001b[0m         \u001b[1;32massert\u001b[0m \u001b[0mself\u001b[0m\u001b[1;33m.\u001b[0m\u001b[0mhandles\u001b[0m \u001b[1;32mis\u001b[0m \u001b[1;32mnot\u001b[0m \u001b[1;32mNone\u001b[0m\u001b[1;33m\u001b[0m\u001b[1;33m\u001b[0m\u001b[0m\n\u001b[0;32m   1869\u001b[0m         \u001b[1;32mfor\u001b[0m \u001b[0mkey\u001b[0m \u001b[1;32min\u001b[0m \u001b[1;33m(\u001b[0m\u001b[1;34m\"storage_options\"\u001b[0m\u001b[1;33m,\u001b[0m \u001b[1;34m\"encoding\"\u001b[0m\u001b[1;33m,\u001b[0m \u001b[1;34m\"memory_map\"\u001b[0m\u001b[1;33m,\u001b[0m \u001b[1;34m\"compression\"\u001b[0m\u001b[1;33m)\u001b[0m\u001b[1;33m:\u001b[0m\u001b[1;33m\u001b[0m\u001b[1;33m\u001b[0m\u001b[0m\n",
      "\u001b[1;32m~\\anaconda3\\lib\\site-packages\\pandas\\io\\parsers.py\u001b[0m in \u001b[0;36m_open_handles\u001b[1;34m(self, src, kwds)\u001b[0m\n\u001b[0;32m   1360\u001b[0m         \u001b[0mLet\u001b[0m \u001b[0mthe\u001b[0m \u001b[0mreaders\u001b[0m \u001b[0mopen\u001b[0m \u001b[0mIOHanldes\u001b[0m \u001b[0mafter\u001b[0m \u001b[0mthey\u001b[0m \u001b[0mare\u001b[0m \u001b[0mdone\u001b[0m \u001b[1;32mwith\u001b[0m \u001b[0mtheir\u001b[0m \u001b[0mpotential\u001b[0m \u001b[0mraises\u001b[0m\u001b[1;33m.\u001b[0m\u001b[1;33m\u001b[0m\u001b[1;33m\u001b[0m\u001b[0m\n\u001b[0;32m   1361\u001b[0m         \"\"\"\n\u001b[1;32m-> 1362\u001b[1;33m         self.handles = get_handle(\n\u001b[0m\u001b[0;32m   1363\u001b[0m             \u001b[0msrc\u001b[0m\u001b[1;33m,\u001b[0m\u001b[1;33m\u001b[0m\u001b[1;33m\u001b[0m\u001b[0m\n\u001b[0;32m   1364\u001b[0m             \u001b[1;34m\"r\"\u001b[0m\u001b[1;33m,\u001b[0m\u001b[1;33m\u001b[0m\u001b[1;33m\u001b[0m\u001b[0m\n",
      "\u001b[1;32m~\\anaconda3\\lib\\site-packages\\pandas\\io\\common.py\u001b[0m in \u001b[0;36mget_handle\u001b[1;34m(path_or_buf, mode, encoding, compression, memory_map, is_text, errors, storage_options)\u001b[0m\n\u001b[0;32m    640\u001b[0m                 \u001b[0merrors\u001b[0m \u001b[1;33m=\u001b[0m \u001b[1;34m\"replace\"\u001b[0m\u001b[1;33m\u001b[0m\u001b[1;33m\u001b[0m\u001b[0m\n\u001b[0;32m    641\u001b[0m             \u001b[1;31m# Encoding\u001b[0m\u001b[1;33m\u001b[0m\u001b[1;33m\u001b[0m\u001b[1;33m\u001b[0m\u001b[0m\n\u001b[1;32m--> 642\u001b[1;33m             handle = open(\n\u001b[0m\u001b[0;32m    643\u001b[0m                 \u001b[0mhandle\u001b[0m\u001b[1;33m,\u001b[0m\u001b[1;33m\u001b[0m\u001b[1;33m\u001b[0m\u001b[0m\n\u001b[0;32m    644\u001b[0m                 \u001b[0mioargs\u001b[0m\u001b[1;33m.\u001b[0m\u001b[0mmode\u001b[0m\u001b[1;33m,\u001b[0m\u001b[1;33m\u001b[0m\u001b[1;33m\u001b[0m\u001b[0m\n",
      "\u001b[1;31mFileNotFoundError\u001b[0m: [Errno 2] No such file or directory: 'example.csv'"
     ]
    }
   ],
   "source": [
    "pd.read_csv('example.csv')"
   ]
  },
  {
   "cell_type": "code",
   "execution_count": 12,
   "id": "784ecf04",
   "metadata": {},
   "outputs": [
    {
     "data": {
      "text/plain": [
       "'C:\\\\Users\\\\Nilay Mazumder'"
      ]
     },
     "execution_count": 12,
     "metadata": {},
     "output_type": "execute_result"
    }
   ],
   "source": [
    "pwd"
   ]
  },
  {
   "cell_type": "code",
   "execution_count": 2,
   "id": "e2210317",
   "metadata": {},
   "outputs": [],
   "source": [
    "import pandas as pd"
   ]
  },
  {
   "cell_type": "code",
   "execution_count": 61,
   "id": "b06bd0b5",
   "metadata": {},
   "outputs": [],
   "source": [
    "df=pd.read_csv('C:\\\\Users\\\\Nilay Mazumder\\\\practice\\\\example.csv')"
   ]
  },
  {
   "cell_type": "code",
   "execution_count": 22,
   "id": "f6bb60f8",
   "metadata": {},
   "outputs": [
    {
     "data": {
      "text/html": [
       "<div>\n",
       "<style scoped>\n",
       "    .dataframe tbody tr th:only-of-type {\n",
       "        vertical-align: middle;\n",
       "    }\n",
       "\n",
       "    .dataframe tbody tr th {\n",
       "        vertical-align: top;\n",
       "    }\n",
       "\n",
       "    .dataframe thead th {\n",
       "        text-align: right;\n",
       "    }\n",
       "</style>\n",
       "<table border=\"1\" class=\"dataframe\">\n",
       "  <thead>\n",
       "    <tr style=\"text-align: right;\">\n",
       "      <th></th>\n",
       "      <th>a</th>\n",
       "      <th>b</th>\n",
       "      <th>c</th>\n",
       "      <th>d</th>\n",
       "    </tr>\n",
       "  </thead>\n",
       "  <tbody>\n",
       "    <tr>\n",
       "      <th>0</th>\n",
       "      <td>0</td>\n",
       "      <td>1</td>\n",
       "      <td>2</td>\n",
       "      <td>3</td>\n",
       "    </tr>\n",
       "    <tr>\n",
       "      <th>1</th>\n",
       "      <td>4</td>\n",
       "      <td>5</td>\n",
       "      <td>6</td>\n",
       "      <td>7</td>\n",
       "    </tr>\n",
       "    <tr>\n",
       "      <th>2</th>\n",
       "      <td>8</td>\n",
       "      <td>9</td>\n",
       "      <td>10</td>\n",
       "      <td>11</td>\n",
       "    </tr>\n",
       "    <tr>\n",
       "      <th>3</th>\n",
       "      <td>12</td>\n",
       "      <td>13</td>\n",
       "      <td>14</td>\n",
       "      <td>15</td>\n",
       "    </tr>\n",
       "  </tbody>\n",
       "</table>\n",
       "</div>"
      ],
      "text/plain": [
       "    a   b   c   d\n",
       "0   0   1   2   3\n",
       "1   4   5   6   7\n",
       "2   8   9  10  11\n",
       "3  12  13  14  15"
      ]
     },
     "execution_count": 22,
     "metadata": {},
     "output_type": "execute_result"
    }
   ],
   "source": [
    "df"
   ]
  },
  {
   "cell_type": "code",
   "execution_count": 62,
   "id": "0374f219",
   "metadata": {},
   "outputs": [],
   "source": [
    "df.to_csv('C:\\\\Users\\\\Nilay Mazumder\\\\practice\\\\My_output.csv',index=False)"
   ]
  },
  {
   "cell_type": "code",
   "execution_count": 63,
   "id": "bd0fa0aa",
   "metadata": {},
   "outputs": [
    {
     "data": {
      "text/html": [
       "<div>\n",
       "<style scoped>\n",
       "    .dataframe tbody tr th:only-of-type {\n",
       "        vertical-align: middle;\n",
       "    }\n",
       "\n",
       "    .dataframe tbody tr th {\n",
       "        vertical-align: top;\n",
       "    }\n",
       "\n",
       "    .dataframe thead th {\n",
       "        text-align: right;\n",
       "    }\n",
       "</style>\n",
       "<table border=\"1\" class=\"dataframe\">\n",
       "  <thead>\n",
       "    <tr style=\"text-align: right;\">\n",
       "      <th></th>\n",
       "      <th>a</th>\n",
       "      <th>b</th>\n",
       "      <th>c</th>\n",
       "      <th>d</th>\n",
       "    </tr>\n",
       "  </thead>\n",
       "  <tbody>\n",
       "    <tr>\n",
       "      <th>0</th>\n",
       "      <td>0</td>\n",
       "      <td>1</td>\n",
       "      <td>2</td>\n",
       "      <td>3</td>\n",
       "    </tr>\n",
       "    <tr>\n",
       "      <th>1</th>\n",
       "      <td>4</td>\n",
       "      <td>5</td>\n",
       "      <td>6</td>\n",
       "      <td>7</td>\n",
       "    </tr>\n",
       "    <tr>\n",
       "      <th>2</th>\n",
       "      <td>8</td>\n",
       "      <td>9</td>\n",
       "      <td>10</td>\n",
       "      <td>11</td>\n",
       "    </tr>\n",
       "    <tr>\n",
       "      <th>3</th>\n",
       "      <td>12</td>\n",
       "      <td>13</td>\n",
       "      <td>14</td>\n",
       "      <td>15</td>\n",
       "    </tr>\n",
       "  </tbody>\n",
       "</table>\n",
       "</div>"
      ],
      "text/plain": [
       "    a   b   c   d\n",
       "0   0   1   2   3\n",
       "1   4   5   6   7\n",
       "2   8   9  10  11\n",
       "3  12  13  14  15"
      ]
     },
     "execution_count": 63,
     "metadata": {},
     "output_type": "execute_result"
    }
   ],
   "source": [
    "pd.read_csv('C:\\\\Users\\\\Nilay Mazumder\\\\practice\\\\My_output.csv')"
   ]
  },
  {
   "cell_type": "code",
   "execution_count": 58,
   "id": "c2e3c7a8",
   "metadata": {},
   "outputs": [],
   "source": [
    "#pd.read_excel('C:\\\\Users\\\\Nilay Mazumder\\\\practice\\\\Excel_Sample.xlsx',sheetname='sheet')"
   ]
  },
  {
   "cell_type": "code",
   "execution_count": 71,
   "id": "06bd4878",
   "metadata": {},
   "outputs": [],
   "source": [
    "df.to_excel('C:\\\\Users\\\\Nilay Mazumder\\\\practice\\\\Excel_Sample2.xlsx')"
   ]
  },
  {
   "cell_type": "code",
   "execution_count": 70,
   "id": "6d70ffd2",
   "metadata": {},
   "outputs": [
    {
     "data": {
      "text/html": [
       "<div>\n",
       "<style scoped>\n",
       "    .dataframe tbody tr th:only-of-type {\n",
       "        vertical-align: middle;\n",
       "    }\n",
       "\n",
       "    .dataframe tbody tr th {\n",
       "        vertical-align: top;\n",
       "    }\n",
       "\n",
       "    .dataframe thead th {\n",
       "        text-align: right;\n",
       "    }\n",
       "</style>\n",
       "<table border=\"1\" class=\"dataframe\">\n",
       "  <thead>\n",
       "    <tr style=\"text-align: right;\">\n",
       "      <th></th>\n",
       "      <th>Unnamed: 0</th>\n",
       "      <th>a</th>\n",
       "      <th>b</th>\n",
       "      <th>c</th>\n",
       "      <th>d</th>\n",
       "    </tr>\n",
       "  </thead>\n",
       "  <tbody>\n",
       "    <tr>\n",
       "      <th>0</th>\n",
       "      <td>0</td>\n",
       "      <td>0</td>\n",
       "      <td>1</td>\n",
       "      <td>2</td>\n",
       "      <td>3</td>\n",
       "    </tr>\n",
       "    <tr>\n",
       "      <th>1</th>\n",
       "      <td>1</td>\n",
       "      <td>4</td>\n",
       "      <td>5</td>\n",
       "      <td>6</td>\n",
       "      <td>7</td>\n",
       "    </tr>\n",
       "    <tr>\n",
       "      <th>2</th>\n",
       "      <td>2</td>\n",
       "      <td>8</td>\n",
       "      <td>9</td>\n",
       "      <td>10</td>\n",
       "      <td>11</td>\n",
       "    </tr>\n",
       "    <tr>\n",
       "      <th>3</th>\n",
       "      <td>3</td>\n",
       "      <td>12</td>\n",
       "      <td>13</td>\n",
       "      <td>14</td>\n",
       "      <td>15</td>\n",
       "    </tr>\n",
       "  </tbody>\n",
       "</table>\n",
       "</div>"
      ],
      "text/plain": [
       "   Unnamed: 0   a   b   c   d\n",
       "0           0   0   1   2   3\n",
       "1           1   4   5   6   7\n",
       "2           2   8   9  10  11\n",
       "3           3  12  13  14  15"
      ]
     },
     "execution_count": 70,
     "metadata": {},
     "output_type": "execute_result"
    }
   ],
   "source": [
    "pd.read_excel('C:\\\\Users\\\\Nilay Mazumder\\\\practice\\\\Excel_Sample.xlsx')"
   ]
  },
  {
   "cell_type": "code",
   "execution_count": 77,
   "id": "1c9630b6",
   "metadata": {},
   "outputs": [
    {
     "data": {
      "text/html": [
       "<div>\n",
       "<style scoped>\n",
       "    .dataframe tbody tr th:only-of-type {\n",
       "        vertical-align: middle;\n",
       "    }\n",
       "\n",
       "    .dataframe tbody tr th {\n",
       "        vertical-align: top;\n",
       "    }\n",
       "\n",
       "    .dataframe thead th {\n",
       "        text-align: right;\n",
       "    }\n",
       "</style>\n",
       "<table border=\"1\" class=\"dataframe\">\n",
       "  <thead>\n",
       "    <tr style=\"text-align: right;\">\n",
       "      <th></th>\n",
       "      <th>Unnamed: 0</th>\n",
       "      <th>a</th>\n",
       "      <th>b</th>\n",
       "      <th>c</th>\n",
       "      <th>d</th>\n",
       "    </tr>\n",
       "  </thead>\n",
       "  <tbody>\n",
       "    <tr>\n",
       "      <th>0</th>\n",
       "      <td>0</td>\n",
       "      <td>0</td>\n",
       "      <td>1</td>\n",
       "      <td>2</td>\n",
       "      <td>3</td>\n",
       "    </tr>\n",
       "    <tr>\n",
       "      <th>1</th>\n",
       "      <td>1</td>\n",
       "      <td>4</td>\n",
       "      <td>5</td>\n",
       "      <td>6</td>\n",
       "      <td>7</td>\n",
       "    </tr>\n",
       "    <tr>\n",
       "      <th>2</th>\n",
       "      <td>2</td>\n",
       "      <td>8</td>\n",
       "      <td>9</td>\n",
       "      <td>10</td>\n",
       "      <td>11</td>\n",
       "    </tr>\n",
       "    <tr>\n",
       "      <th>3</th>\n",
       "      <td>3</td>\n",
       "      <td>12</td>\n",
       "      <td>13</td>\n",
       "      <td>14</td>\n",
       "      <td>15</td>\n",
       "    </tr>\n",
       "  </tbody>\n",
       "</table>\n",
       "</div>"
      ],
      "text/plain": [
       "   Unnamed: 0   a   b   c   d\n",
       "0           0   0   1   2   3\n",
       "1           1   4   5   6   7\n",
       "2           2   8   9  10  11\n",
       "3           3  12  13  14  15"
      ]
     },
     "execution_count": 77,
     "metadata": {},
     "output_type": "execute_result"
    }
   ],
   "source": [
    "pd.read_excel('C:\\\\Users\\\\Nilay Mazumder\\\\practice\\\\Excel_Sample2.xlsx')"
   ]
  },
  {
   "cell_type": "code",
   "execution_count": 79,
   "id": "894ae614",
   "metadata": {},
   "outputs": [],
   "source": [
    "df1=pd.read_html('https://www.fdic.gov/resources/resolutions/bank-failures/failed-bank-list/')"
   ]
  },
  {
   "cell_type": "code",
   "execution_count": 85,
   "id": "8849ce69",
   "metadata": {},
   "outputs": [
    {
     "data": {
      "text/html": [
       "<div>\n",
       "<style scoped>\n",
       "    .dataframe tbody tr th:only-of-type {\n",
       "        vertical-align: middle;\n",
       "    }\n",
       "\n",
       "    .dataframe tbody tr th {\n",
       "        vertical-align: top;\n",
       "    }\n",
       "\n",
       "    .dataframe thead th {\n",
       "        text-align: right;\n",
       "    }\n",
       "</style>\n",
       "<table border=\"1\" class=\"dataframe\">\n",
       "  <thead>\n",
       "    <tr style=\"text-align: right;\">\n",
       "      <th></th>\n",
       "      <th>Bank NameBank</th>\n",
       "      <th>CityCity</th>\n",
       "      <th>StateSt</th>\n",
       "      <th>CertCert</th>\n",
       "      <th>Acquiring InstitutionAI</th>\n",
       "      <th>Closing DateClosing</th>\n",
       "      <th>FundFund</th>\n",
       "    </tr>\n",
       "  </thead>\n",
       "  <tbody>\n",
       "    <tr>\n",
       "      <th>0</th>\n",
       "      <td>Almena State Bank</td>\n",
       "      <td>Almena</td>\n",
       "      <td>KS</td>\n",
       "      <td>15426</td>\n",
       "      <td>Equity Bank</td>\n",
       "      <td>October 23, 2020</td>\n",
       "      <td>10538</td>\n",
       "    </tr>\n",
       "    <tr>\n",
       "      <th>1</th>\n",
       "      <td>First City Bank of Florida</td>\n",
       "      <td>Fort Walton Beach</td>\n",
       "      <td>FL</td>\n",
       "      <td>16748</td>\n",
       "      <td>United Fidelity Bank, fsb</td>\n",
       "      <td>October 16, 2020</td>\n",
       "      <td>10537</td>\n",
       "    </tr>\n",
       "    <tr>\n",
       "      <th>2</th>\n",
       "      <td>The First State Bank</td>\n",
       "      <td>Barboursville</td>\n",
       "      <td>WV</td>\n",
       "      <td>14361</td>\n",
       "      <td>MVB Bank, Inc.</td>\n",
       "      <td>April 3, 2020</td>\n",
       "      <td>10536</td>\n",
       "    </tr>\n",
       "    <tr>\n",
       "      <th>3</th>\n",
       "      <td>Ericson State Bank</td>\n",
       "      <td>Ericson</td>\n",
       "      <td>NE</td>\n",
       "      <td>18265</td>\n",
       "      <td>Farmers and Merchants Bank</td>\n",
       "      <td>February 14, 2020</td>\n",
       "      <td>10535</td>\n",
       "    </tr>\n",
       "    <tr>\n",
       "      <th>4</th>\n",
       "      <td>City National Bank of New Jersey</td>\n",
       "      <td>Newark</td>\n",
       "      <td>NJ</td>\n",
       "      <td>21111</td>\n",
       "      <td>Industrial Bank</td>\n",
       "      <td>November 1, 2019</td>\n",
       "      <td>10534</td>\n",
       "    </tr>\n",
       "  </tbody>\n",
       "</table>\n",
       "</div>"
      ],
      "text/plain": [
       "                      Bank NameBank           CityCity StateSt  CertCert  \\\n",
       "0                 Almena State Bank             Almena      KS     15426   \n",
       "1        First City Bank of Florida  Fort Walton Beach      FL     16748   \n",
       "2              The First State Bank      Barboursville      WV     14361   \n",
       "3                Ericson State Bank            Ericson      NE     18265   \n",
       "4  City National Bank of New Jersey             Newark      NJ     21111   \n",
       "\n",
       "      Acquiring InstitutionAI Closing DateClosing  FundFund  \n",
       "0                 Equity Bank    October 23, 2020     10538  \n",
       "1   United Fidelity Bank, fsb    October 16, 2020     10537  \n",
       "2              MVB Bank, Inc.       April 3, 2020     10536  \n",
       "3  Farmers and Merchants Bank   February 14, 2020     10535  \n",
       "4             Industrial Bank    November 1, 2019     10534  "
      ]
     },
     "execution_count": 85,
     "metadata": {},
     "output_type": "execute_result"
    }
   ],
   "source": [
    "df1[0].head()"
   ]
  },
  {
   "cell_type": "code",
   "execution_count": 86,
   "id": "3119d979",
   "metadata": {},
   "outputs": [],
   "source": [
    "from sqlalchemy import create_engine"
   ]
  },
  {
   "cell_type": "code",
   "execution_count": 87,
   "id": "12669b62",
   "metadata": {},
   "outputs": [],
   "source": [
    "engine=create_engine('sqlite:///:memory:')"
   ]
  },
  {
   "cell_type": "code",
   "execution_count": 89,
   "id": "b3554ff8",
   "metadata": {},
   "outputs": [],
   "source": [
    "df.to_sql('my_table',engine)"
   ]
  },
  {
   "cell_type": "code",
   "execution_count": 90,
   "id": "3fe8f1c1",
   "metadata": {},
   "outputs": [],
   "source": [
    "sqldf=pd.read_sql('my_table',con=engine)"
   ]
  },
  {
   "cell_type": "code",
   "execution_count": 91,
   "id": "73611ea5",
   "metadata": {},
   "outputs": [
    {
     "data": {
      "text/html": [
       "<div>\n",
       "<style scoped>\n",
       "    .dataframe tbody tr th:only-of-type {\n",
       "        vertical-align: middle;\n",
       "    }\n",
       "\n",
       "    .dataframe tbody tr th {\n",
       "        vertical-align: top;\n",
       "    }\n",
       "\n",
       "    .dataframe thead th {\n",
       "        text-align: right;\n",
       "    }\n",
       "</style>\n",
       "<table border=\"1\" class=\"dataframe\">\n",
       "  <thead>\n",
       "    <tr style=\"text-align: right;\">\n",
       "      <th></th>\n",
       "      <th>index</th>\n",
       "      <th>a</th>\n",
       "      <th>b</th>\n",
       "      <th>c</th>\n",
       "      <th>d</th>\n",
       "    </tr>\n",
       "  </thead>\n",
       "  <tbody>\n",
       "    <tr>\n",
       "      <th>0</th>\n",
       "      <td>0</td>\n",
       "      <td>0</td>\n",
       "      <td>1</td>\n",
       "      <td>2</td>\n",
       "      <td>3</td>\n",
       "    </tr>\n",
       "    <tr>\n",
       "      <th>1</th>\n",
       "      <td>1</td>\n",
       "      <td>4</td>\n",
       "      <td>5</td>\n",
       "      <td>6</td>\n",
       "      <td>7</td>\n",
       "    </tr>\n",
       "    <tr>\n",
       "      <th>2</th>\n",
       "      <td>2</td>\n",
       "      <td>8</td>\n",
       "      <td>9</td>\n",
       "      <td>10</td>\n",
       "      <td>11</td>\n",
       "    </tr>\n",
       "    <tr>\n",
       "      <th>3</th>\n",
       "      <td>3</td>\n",
       "      <td>12</td>\n",
       "      <td>13</td>\n",
       "      <td>14</td>\n",
       "      <td>15</td>\n",
       "    </tr>\n",
       "  </tbody>\n",
       "</table>\n",
       "</div>"
      ],
      "text/plain": [
       "   index   a   b   c   d\n",
       "0      0   0   1   2   3\n",
       "1      1   4   5   6   7\n",
       "2      2   8   9  10  11\n",
       "3      3  12  13  14  15"
      ]
     },
     "execution_count": 91,
     "metadata": {},
     "output_type": "execute_result"
    }
   ],
   "source": [
    "sqldf"
   ]
  },
  {
   "cell_type": "code",
   "execution_count": 16,
   "id": "f48dd649",
   "metadata": {},
   "outputs": [],
   "source": [
    "df2=pd.read_html('https://www.imdb.com/search/title/?release_date=2018')\n"
   ]
  },
  {
   "cell_type": "code",
   "execution_count": 19,
   "id": "c4e83220",
   "metadata": {},
   "outputs": [
    {
     "data": {
      "text/html": [
       "<div>\n",
       "<style scoped>\n",
       "    .dataframe tbody tr th:only-of-type {\n",
       "        vertical-align: middle;\n",
       "    }\n",
       "\n",
       "    .dataframe tbody tr th {\n",
       "        vertical-align: top;\n",
       "    }\n",
       "\n",
       "    .dataframe thead th {\n",
       "        text-align: right;\n",
       "    }\n",
       "</style>\n",
       "<table border=\"1\" class=\"dataframe\">\n",
       "  <thead>\n",
       "    <tr style=\"text-align: right;\">\n",
       "      <th></th>\n",
       "      <th>0</th>\n",
       "      <th>1</th>\n",
       "      <th>2</th>\n",
       "      <th>3</th>\n",
       "    </tr>\n",
       "  </thead>\n",
       "  <tbody>\n",
       "    <tr>\n",
       "      <th>0</th>\n",
       "      <td>Feature Film</td>\n",
       "      <td>TV Movie</td>\n",
       "      <td>TV Series</td>\n",
       "      <td>TV Episode</td>\n",
       "    </tr>\n",
       "    <tr>\n",
       "      <th>1</th>\n",
       "      <td>TV Special</td>\n",
       "      <td>Mini-Series</td>\n",
       "      <td>Documentary</td>\n",
       "      <td>Video Game</td>\n",
       "    </tr>\n",
       "    <tr>\n",
       "      <th>2</th>\n",
       "      <td>Short Film</td>\n",
       "      <td>Video</td>\n",
       "      <td>TV Short</td>\n",
       "      <td>Podcast Series</td>\n",
       "    </tr>\n",
       "    <tr>\n",
       "      <th>3</th>\n",
       "      <td>Podcast Episode</td>\n",
       "      <td>Music Video</td>\n",
       "      <td>NaN</td>\n",
       "      <td>NaN</td>\n",
       "    </tr>\n",
       "  </tbody>\n",
       "</table>\n",
       "</div>"
      ],
      "text/plain": [
       "                 0            1            2               3\n",
       "0     Feature Film     TV Movie    TV Series      TV Episode\n",
       "1       TV Special  Mini-Series  Documentary      Video Game\n",
       "2       Short Film        Video     TV Short  Podcast Series\n",
       "3  Podcast Episode  Music Video          NaN             NaN"
      ]
     },
     "execution_count": 19,
     "metadata": {},
     "output_type": "execute_result"
    }
   ],
   "source": [
    "df2[0]"
   ]
  },
  {
   "cell_type": "code",
   "execution_count": 12,
   "id": "7f4963af",
   "metadata": {},
   "outputs": [
    {
     "data": {
      "text/html": [
       "<div>\n",
       "<style scoped>\n",
       "    .dataframe tbody tr th:only-of-type {\n",
       "        vertical-align: middle;\n",
       "    }\n",
       "\n",
       "    .dataframe tbody tr th {\n",
       "        vertical-align: top;\n",
       "    }\n",
       "\n",
       "    .dataframe thead th {\n",
       "        text-align: right;\n",
       "    }\n",
       "</style>\n",
       "<table border=\"1\" class=\"dataframe\">\n",
       "  <thead>\n",
       "    <tr style=\"text-align: right;\">\n",
       "      <th></th>\n",
       "      <th>0</th>\n",
       "      <th>1</th>\n",
       "      <th>2</th>\n",
       "      <th>3</th>\n",
       "    </tr>\n",
       "  </thead>\n",
       "  <tbody>\n",
       "    <tr>\n",
       "      <th>0</th>\n",
       "      <td>Feature Film</td>\n",
       "      <td>TV Movie</td>\n",
       "      <td>TV Series</td>\n",
       "      <td>TV Episode</td>\n",
       "    </tr>\n",
       "    <tr>\n",
       "      <th>1</th>\n",
       "      <td>TV Special</td>\n",
       "      <td>Mini-Series</td>\n",
       "      <td>Documentary</td>\n",
       "      <td>Video Game</td>\n",
       "    </tr>\n",
       "    <tr>\n",
       "      <th>2</th>\n",
       "      <td>Short Film</td>\n",
       "      <td>Video</td>\n",
       "      <td>TV Short</td>\n",
       "      <td>Podcast Series</td>\n",
       "    </tr>\n",
       "    <tr>\n",
       "      <th>3</th>\n",
       "      <td>Podcast Episode</td>\n",
       "      <td>Music Video</td>\n",
       "      <td>NaN</td>\n",
       "      <td>NaN</td>\n",
       "    </tr>\n",
       "  </tbody>\n",
       "</table>\n",
       "</div>"
      ],
      "text/plain": [
       "                 0            1            2               3\n",
       "0     Feature Film     TV Movie    TV Series      TV Episode\n",
       "1       TV Special  Mini-Series  Documentary      Video Game\n",
       "2       Short Film        Video     TV Short  Podcast Series\n",
       "3  Podcast Episode  Music Video          NaN             NaN"
      ]
     },
     "execution_count": 12,
     "metadata": {},
     "output_type": "execute_result"
    }
   ],
   "source": [
    "df2[0].head()"
   ]
  },
  {
   "cell_type": "code",
   "execution_count": 58,
   "id": "1e9d7796",
   "metadata": {},
   "outputs": [
    {
     "data": {
      "text/html": [
       "<div>\n",
       "<style scoped>\n",
       "    .dataframe tbody tr th:only-of-type {\n",
       "        vertical-align: middle;\n",
       "    }\n",
       "\n",
       "    .dataframe tbody tr th {\n",
       "        vertical-align: top;\n",
       "    }\n",
       "\n",
       "    .dataframe thead th {\n",
       "        text-align: right;\n",
       "    }\n",
       "</style>\n",
       "<table border=\"1\" class=\"dataframe\">\n",
       "  <thead>\n",
       "    <tr style=\"text-align: right;\">\n",
       "      <th></th>\n",
       "      <th>0</th>\n",
       "      <th>1</th>\n",
       "      <th>2</th>\n",
       "      <th>3</th>\n",
       "    </tr>\n",
       "  </thead>\n",
       "  <tbody>\n",
       "    <tr>\n",
       "      <th>0</th>\n",
       "      <td>Action</td>\n",
       "      <td>Adventure</td>\n",
       "      <td>Animation</td>\n",
       "      <td>Biography</td>\n",
       "    </tr>\n",
       "    <tr>\n",
       "      <th>1</th>\n",
       "      <td>Comedy</td>\n",
       "      <td>Crime</td>\n",
       "      <td>Documentary</td>\n",
       "      <td>Drama</td>\n",
       "    </tr>\n",
       "    <tr>\n",
       "      <th>2</th>\n",
       "      <td>Family</td>\n",
       "      <td>Fantasy</td>\n",
       "      <td>Film-Noir</td>\n",
       "      <td>Game-Show</td>\n",
       "    </tr>\n",
       "    <tr>\n",
       "      <th>3</th>\n",
       "      <td>History</td>\n",
       "      <td>Horror</td>\n",
       "      <td>Music</td>\n",
       "      <td>Musical</td>\n",
       "    </tr>\n",
       "    <tr>\n",
       "      <th>4</th>\n",
       "      <td>Mystery</td>\n",
       "      <td>News</td>\n",
       "      <td>Reality-TV</td>\n",
       "      <td>Romance</td>\n",
       "    </tr>\n",
       "    <tr>\n",
       "      <th>5</th>\n",
       "      <td>Sci-Fi</td>\n",
       "      <td>Sport</td>\n",
       "      <td>Talk-Show</td>\n",
       "      <td>Thriller</td>\n",
       "    </tr>\n",
       "    <tr>\n",
       "      <th>6</th>\n",
       "      <td>War</td>\n",
       "      <td>Western</td>\n",
       "      <td>NaN</td>\n",
       "      <td>NaN</td>\n",
       "    </tr>\n",
       "  </tbody>\n",
       "</table>\n",
       "</div>"
      ],
      "text/plain": [
       "         0          1            2          3\n",
       "0   Action  Adventure    Animation  Biography\n",
       "1   Comedy      Crime  Documentary      Drama\n",
       "2   Family    Fantasy    Film-Noir  Game-Show\n",
       "3  History     Horror        Music    Musical\n",
       "4  Mystery       News   Reality-TV    Romance\n",
       "5   Sci-Fi      Sport    Talk-Show   Thriller\n",
       "6      War    Western          NaN        NaN"
      ]
     },
     "execution_count": 58,
     "metadata": {},
     "output_type": "execute_result"
    }
   ],
   "source": [
    "df2[1]"
   ]
  },
  {
   "cell_type": "code",
   "execution_count": 15,
   "id": "e1b2277d",
   "metadata": {},
   "outputs": [
    {
     "ename": "AttributeError",
     "evalue": "'list' object has no attribute 'shape'",
     "output_type": "error",
     "traceback": [
      "\u001b[1;31m---------------------------------------------------------------------------\u001b[0m",
      "\u001b[1;31mAttributeError\u001b[0m                            Traceback (most recent call last)",
      "\u001b[1;32m<ipython-input-15-23bc78ef4ce5>\u001b[0m in \u001b[0;36m<module>\u001b[1;34m\u001b[0m\n\u001b[1;32m----> 1\u001b[1;33m \u001b[0mdf2\u001b[0m\u001b[1;33m.\u001b[0m\u001b[0mshape\u001b[0m\u001b[1;33m(\u001b[0m\u001b[1;33m)\u001b[0m\u001b[1;33m\u001b[0m\u001b[1;33m\u001b[0m\u001b[0m\n\u001b[0m",
      "\u001b[1;31mAttributeError\u001b[0m: 'list' object has no attribute 'shape'"
     ]
    }
   ],
   "source": [
    "df2.shape()"
   ]
  },
  {
   "cell_type": "code",
   "execution_count": 24,
   "id": "03ddfd6e",
   "metadata": {},
   "outputs": [
    {
     "ename": "JSONDecodeError",
     "evalue": "Expecting value: line 3 column 1 (char 2)",
     "output_type": "error",
     "traceback": [
      "\u001b[1;31m---------------------------------------------------------------------------\u001b[0m",
      "\u001b[1;31mJSONDecodeError\u001b[0m                           Traceback (most recent call last)",
      "\u001b[1;32m<ipython-input-24-5ad9f4735bfe>\u001b[0m in \u001b[0;36m<module>\u001b[1;34m\u001b[0m\n\u001b[0;32m     14\u001b[0m     \u001b[1;32mreturn\u001b[0m \u001b[0mdf\u001b[0m\u001b[1;33m\u001b[0m\u001b[1;33m\u001b[0m\u001b[0m\n\u001b[0;32m     15\u001b[0m \u001b[1;33m\u001b[0m\u001b[0m\n\u001b[1;32m---> 16\u001b[1;33m \u001b[0mdata\u001b[0m \u001b[1;33m=\u001b[0m \u001b[0mload_df\u001b[0m\u001b[1;33m(\u001b[0m\u001b[0murl\u001b[0m\u001b[1;33m)\u001b[0m\u001b[1;33m\u001b[0m\u001b[1;33m\u001b[0m\u001b[0m\n\u001b[0m",
      "\u001b[1;32m<ipython-input-24-5ad9f4735bfe>\u001b[0m in \u001b[0;36mload_df\u001b[1;34m(url)\u001b[0m\n\u001b[0;32m      8\u001b[0m     \u001b[0mJSON_COLUMNS\u001b[0m \u001b[1;33m=\u001b[0m \u001b[1;33m[\u001b[0m\u001b[1;34m'articles'\u001b[0m\u001b[1;33m]\u001b[0m\u001b[1;33m\u001b[0m\u001b[1;33m\u001b[0m\u001b[0m\n\u001b[0;32m      9\u001b[0m \u001b[1;33m\u001b[0m\u001b[0m\n\u001b[1;32m---> 10\u001b[1;33m     \u001b[0mr_json\u001b[0m \u001b[1;33m=\u001b[0m \u001b[0mrequests\u001b[0m\u001b[1;33m.\u001b[0m\u001b[0mget\u001b[0m\u001b[1;33m(\u001b[0m\u001b[0murl\u001b[0m\u001b[1;33m)\u001b[0m\u001b[1;33m.\u001b[0m\u001b[0mjson\u001b[0m\u001b[1;33m(\u001b[0m\u001b[1;33m)\u001b[0m\u001b[1;33m\u001b[0m\u001b[1;33m\u001b[0m\u001b[0m\n\u001b[0m\u001b[0;32m     11\u001b[0m \u001b[1;33m\u001b[0m\u001b[0m\n\u001b[0;32m     12\u001b[0m     \u001b[0mdf\u001b[0m \u001b[1;33m=\u001b[0m \u001b[0mjson_normalize\u001b[0m\u001b[1;33m(\u001b[0m\u001b[0mr_json\u001b[0m\u001b[1;33m)\u001b[0m\u001b[1;33m\u001b[0m\u001b[1;33m\u001b[0m\u001b[0m\n",
      "\u001b[1;32m~\\anaconda3\\lib\\site-packages\\requests\\models.py\u001b[0m in \u001b[0;36mjson\u001b[1;34m(self, **kwargs)\u001b[0m\n\u001b[0;32m    898\u001b[0m                     \u001b[1;31m# used.\u001b[0m\u001b[1;33m\u001b[0m\u001b[1;33m\u001b[0m\u001b[1;33m\u001b[0m\u001b[0m\n\u001b[0;32m    899\u001b[0m                     \u001b[1;32mpass\u001b[0m\u001b[1;33m\u001b[0m\u001b[1;33m\u001b[0m\u001b[0m\n\u001b[1;32m--> 900\u001b[1;33m         \u001b[1;32mreturn\u001b[0m \u001b[0mcomplexjson\u001b[0m\u001b[1;33m.\u001b[0m\u001b[0mloads\u001b[0m\u001b[1;33m(\u001b[0m\u001b[0mself\u001b[0m\u001b[1;33m.\u001b[0m\u001b[0mtext\u001b[0m\u001b[1;33m,\u001b[0m \u001b[1;33m**\u001b[0m\u001b[0mkwargs\u001b[0m\u001b[1;33m)\u001b[0m\u001b[1;33m\u001b[0m\u001b[1;33m\u001b[0m\u001b[0m\n\u001b[0m\u001b[0;32m    901\u001b[0m \u001b[1;33m\u001b[0m\u001b[0m\n\u001b[0;32m    902\u001b[0m     \u001b[1;33m@\u001b[0m\u001b[0mproperty\u001b[0m\u001b[1;33m\u001b[0m\u001b[1;33m\u001b[0m\u001b[0m\n",
      "\u001b[1;32m~\\anaconda3\\lib\\json\\__init__.py\u001b[0m in \u001b[0;36mloads\u001b[1;34m(s, cls, object_hook, parse_float, parse_int, parse_constant, object_pairs_hook, **kw)\u001b[0m\n\u001b[0;32m    355\u001b[0m             \u001b[0mparse_int\u001b[0m \u001b[1;32mis\u001b[0m \u001b[1;32mNone\u001b[0m \u001b[1;32mand\u001b[0m \u001b[0mparse_float\u001b[0m \u001b[1;32mis\u001b[0m \u001b[1;32mNone\u001b[0m \u001b[1;32mand\u001b[0m\u001b[1;33m\u001b[0m\u001b[1;33m\u001b[0m\u001b[0m\n\u001b[0;32m    356\u001b[0m             parse_constant is None and object_pairs_hook is None and not kw):\n\u001b[1;32m--> 357\u001b[1;33m         \u001b[1;32mreturn\u001b[0m \u001b[0m_default_decoder\u001b[0m\u001b[1;33m.\u001b[0m\u001b[0mdecode\u001b[0m\u001b[1;33m(\u001b[0m\u001b[0ms\u001b[0m\u001b[1;33m)\u001b[0m\u001b[1;33m\u001b[0m\u001b[1;33m\u001b[0m\u001b[0m\n\u001b[0m\u001b[0;32m    358\u001b[0m     \u001b[1;32mif\u001b[0m \u001b[0mcls\u001b[0m \u001b[1;32mis\u001b[0m \u001b[1;32mNone\u001b[0m\u001b[1;33m:\u001b[0m\u001b[1;33m\u001b[0m\u001b[1;33m\u001b[0m\u001b[0m\n\u001b[0;32m    359\u001b[0m         \u001b[0mcls\u001b[0m \u001b[1;33m=\u001b[0m \u001b[0mJSONDecoder\u001b[0m\u001b[1;33m\u001b[0m\u001b[1;33m\u001b[0m\u001b[0m\n",
      "\u001b[1;32m~\\anaconda3\\lib\\json\\decoder.py\u001b[0m in \u001b[0;36mdecode\u001b[1;34m(self, s, _w)\u001b[0m\n\u001b[0;32m    335\u001b[0m \u001b[1;33m\u001b[0m\u001b[0m\n\u001b[0;32m    336\u001b[0m         \"\"\"\n\u001b[1;32m--> 337\u001b[1;33m         \u001b[0mobj\u001b[0m\u001b[1;33m,\u001b[0m \u001b[0mend\u001b[0m \u001b[1;33m=\u001b[0m \u001b[0mself\u001b[0m\u001b[1;33m.\u001b[0m\u001b[0mraw_decode\u001b[0m\u001b[1;33m(\u001b[0m\u001b[0ms\u001b[0m\u001b[1;33m,\u001b[0m \u001b[0midx\u001b[0m\u001b[1;33m=\u001b[0m\u001b[0m_w\u001b[0m\u001b[1;33m(\u001b[0m\u001b[0ms\u001b[0m\u001b[1;33m,\u001b[0m \u001b[1;36m0\u001b[0m\u001b[1;33m)\u001b[0m\u001b[1;33m.\u001b[0m\u001b[0mend\u001b[0m\u001b[1;33m(\u001b[0m\u001b[1;33m)\u001b[0m\u001b[1;33m)\u001b[0m\u001b[1;33m\u001b[0m\u001b[1;33m\u001b[0m\u001b[0m\n\u001b[0m\u001b[0;32m    338\u001b[0m         \u001b[0mend\u001b[0m \u001b[1;33m=\u001b[0m \u001b[0m_w\u001b[0m\u001b[1;33m(\u001b[0m\u001b[0ms\u001b[0m\u001b[1;33m,\u001b[0m \u001b[0mend\u001b[0m\u001b[1;33m)\u001b[0m\u001b[1;33m.\u001b[0m\u001b[0mend\u001b[0m\u001b[1;33m(\u001b[0m\u001b[1;33m)\u001b[0m\u001b[1;33m\u001b[0m\u001b[1;33m\u001b[0m\u001b[0m\n\u001b[0;32m    339\u001b[0m         \u001b[1;32mif\u001b[0m \u001b[0mend\u001b[0m \u001b[1;33m!=\u001b[0m \u001b[0mlen\u001b[0m\u001b[1;33m(\u001b[0m\u001b[0ms\u001b[0m\u001b[1;33m)\u001b[0m\u001b[1;33m:\u001b[0m\u001b[1;33m\u001b[0m\u001b[1;33m\u001b[0m\u001b[0m\n",
      "\u001b[1;32m~\\anaconda3\\lib\\json\\decoder.py\u001b[0m in \u001b[0;36mraw_decode\u001b[1;34m(self, s, idx)\u001b[0m\n\u001b[0;32m    353\u001b[0m             \u001b[0mobj\u001b[0m\u001b[1;33m,\u001b[0m \u001b[0mend\u001b[0m \u001b[1;33m=\u001b[0m \u001b[0mself\u001b[0m\u001b[1;33m.\u001b[0m\u001b[0mscan_once\u001b[0m\u001b[1;33m(\u001b[0m\u001b[0ms\u001b[0m\u001b[1;33m,\u001b[0m \u001b[0midx\u001b[0m\u001b[1;33m)\u001b[0m\u001b[1;33m\u001b[0m\u001b[1;33m\u001b[0m\u001b[0m\n\u001b[0;32m    354\u001b[0m         \u001b[1;32mexcept\u001b[0m \u001b[0mStopIteration\u001b[0m \u001b[1;32mas\u001b[0m \u001b[0merr\u001b[0m\u001b[1;33m:\u001b[0m\u001b[1;33m\u001b[0m\u001b[1;33m\u001b[0m\u001b[0m\n\u001b[1;32m--> 355\u001b[1;33m             \u001b[1;32mraise\u001b[0m \u001b[0mJSONDecodeError\u001b[0m\u001b[1;33m(\u001b[0m\u001b[1;34m\"Expecting value\"\u001b[0m\u001b[1;33m,\u001b[0m \u001b[0ms\u001b[0m\u001b[1;33m,\u001b[0m \u001b[0merr\u001b[0m\u001b[1;33m.\u001b[0m\u001b[0mvalue\u001b[0m\u001b[1;33m)\u001b[0m \u001b[1;32mfrom\u001b[0m \u001b[1;32mNone\u001b[0m\u001b[1;33m\u001b[0m\u001b[1;33m\u001b[0m\u001b[0m\n\u001b[0m\u001b[0;32m    356\u001b[0m         \u001b[1;32mreturn\u001b[0m \u001b[0mobj\u001b[0m\u001b[1;33m,\u001b[0m \u001b[0mend\u001b[0m\u001b[1;33m\u001b[0m\u001b[1;33m\u001b[0m\u001b[0m\n",
      "\u001b[1;31mJSONDecodeError\u001b[0m: Expecting value: line 3 column 1 (char 2)"
     ]
    }
   ],
   "source": [
    "import requests\n",
    "import urllib.request, json\n",
    "from pandas.io.json import json_normalize\n",
    "\n",
    "url = ('https://www.imdb.com/search/title/?release_date=2018')\n",
    "\n",
    "def load_df(url):\n",
    "    JSON_COLUMNS = ['articles']\n",
    "\n",
    "    r_json = requests.get(url).json()\n",
    "\n",
    "    df = json_normalize(r_json)\n",
    "    df = pd.concat({i:pd.DataFrame(x) for i, x in df.pop('articles').items()}).reset_index(level=1, drop=True).join(df).reset_index(drop=True)\n",
    "    return df\n",
    "\n",
    "data = load_df(url)"
   ]
  },
  {
   "cell_type": "code",
   "execution_count": 30,
   "id": "cafe4f00",
   "metadata": {},
   "outputs": [
    {
     "name": "stdout",
     "output_type": "stream",
     "text": [
      "Movie Title and Rating:\n",
      "\n"
     ]
    },
    {
     "data": {
      "text/plain": [
       "{}"
      ]
     },
     "execution_count": 30,
     "metadata": {},
     "output_type": "execute_result"
    }
   ],
   "source": [
    "#Source https://bit.ly/3t2rjg3\n",
    "from __future__ import annotations\n",
    "import csv\n",
    "import requests\n",
    "from bs4 import BeautifulSoup\n",
    "\n",
    "def get_imdb_top_250_movies(url: str = \"\") -> dict[str, float]:\n",
    "    url = url or \"https://www.imdb.com/search/title/?release_date=2018\"\n",
    "    soup = BeautifulSoup(requests.get(url).text, \"html.parser\")\n",
    "    titles = soup.find_all(\"td\", attrs=\"titleColumn\")\n",
    "    ratings = soup.find_all(\"td\", class_=\"ratingColumn imdbRating\")\n",
    "    return {\n",
    "        title.a.text: float(rating.strong.text)\n",
    "        for title, rating in zip(titles, ratings)\n",
    "    }\n",
    "def write_movies(filename: str = \"IMDb_Top_250_Movies.csv\") -> None:\n",
    "    movies = get_imdb_top_250_movies()\n",
    "    print(\"Movie Title and Rating:\\n\")\n",
    "    with open(filename, \"w\", newline=\"\") as out_file:\n",
    "        writer = csv.writer(out_file)\n",
    "        writer.writerow([\"Movie title\", \"IMDb rating\"])\n",
    "        for title, rating in movies.items():\n",
    "            print(title,\" \",rating)\n",
    "            writer.writerow([title, rating])\n",
    "if __name__ == \"__main__\":\n",
    "    write_movies()\n",
    "\n",
    "get_imdb_top_250_movies('https://www.imdb.com/search/title/?release_date=2018')"
   ]
  },
  {
   "cell_type": "code",
   "execution_count": 35,
   "id": "905eea1e",
   "metadata": {},
   "outputs": [],
   "source": [
    "from bs4 import BeautifulSoup\n",
    "import requests\n",
    "import re\n"
   ]
  },
  {
   "cell_type": "code",
   "execution_count": 36,
   "id": "0aabcc70",
   "metadata": {},
   "outputs": [],
   "source": [
    "url = 'https://www.imdb.com/search/title/?release_date=2018'"
   ]
  },
  {
   "cell_type": "code",
   "execution_count": 37,
   "id": "090f9423",
   "metadata": {},
   "outputs": [],
   "source": [
    "response = requests.get(url)"
   ]
  },
  {
   "cell_type": "code",
   "execution_count": 38,
   "id": "24b87025",
   "metadata": {},
   "outputs": [],
   "source": [
    "soup = BeautifulSoup(response.text, 'lxml')"
   ]
  },
  {
   "cell_type": "code",
   "execution_count": 39,
   "id": "05c8d98a",
   "metadata": {},
   "outputs": [],
   "source": [
    "movies = soup.select('td.titleColumn')"
   ]
  },
  {
   "cell_type": "code",
   "execution_count": 40,
   "id": "4675bb33",
   "metadata": {},
   "outputs": [],
   "source": [
    "links = [a.attrs.get('href') for a in soup.select('td.titleColumn a')]"
   ]
  },
  {
   "cell_type": "code",
   "execution_count": 41,
   "id": "e38c716f",
   "metadata": {},
   "outputs": [],
   "source": [
    "crew = [a.attrs.get('title') for a in soup.select('td.titleColumn a')]"
   ]
  },
  {
   "cell_type": "code",
   "execution_count": 42,
   "id": "95d1ffc3",
   "metadata": {},
   "outputs": [],
   "source": [
    "ratings = [b.attrs.get('data-value') for b in soup.select('td.posterColumn span[name=ir]')]\n",
    "votes = [b.attrs.get('data-value') for b in soup.select('td.ratingColumn strong')]\n"
   ]
  },
  {
   "cell_type": "code",
   "execution_count": 43,
   "id": "5dcd3055",
   "metadata": {},
   "outputs": [],
   "source": [
    "imdb = []"
   ]
  },
  {
   "cell_type": "code",
   "execution_count": 44,
   "id": "b2aede6e",
   "metadata": {},
   "outputs": [],
   "source": [
    "for index in range(0, len(movies)):\n",
    "    # Seperate movie into: 'place', 'title', 'year'\n",
    "    movie_string = movies[index].get_text()\n",
    "    movie = (' '.join(movie_string.split()).replace('.', ''))\n",
    "    movie_title = movie[len(str(index))+1:-7]\n",
    "    year = re.search('\\((.*?)\\)', movie_string).group(1)\n",
    "    place = movie[:len(str(index))-(len(movie))]\n",
    "    data = {\"movie_title\": movie_title,\n",
    "            \"year\": year,\n",
    "            \"place\": place,\n",
    "            \"star_cast\": crew[index],\n",
    "            \"rating\": ratings[index],\n",
    "            \"vote\": votes[index],\n",
    "            \"link\": links[index]}\n",
    "    imdb.append(data)"
   ]
  },
  {
   "cell_type": "code",
   "execution_count": 52,
   "id": "1b789b08",
   "metadata": {},
   "outputs": [
    {
     "ename": "NameError",
     "evalue": "name 'item' is not defined",
     "output_type": "error",
     "traceback": [
      "\u001b[1;31m---------------------------------------------------------------------------\u001b[0m",
      "\u001b[1;31mNameError\u001b[0m                                 Traceback (most recent call last)",
      "\u001b[1;32m<ipython-input-52-853b0374edb1>\u001b[0m in \u001b[0;36m<module>\u001b[1;34m\u001b[0m\n\u001b[0;32m      2\u001b[0m     \u001b[0mprint\u001b[0m\u001b[1;33m(\u001b[0m\u001b[0mitem\u001b[0m\u001b[1;33m[\u001b[0m\u001b[1;34m'place'\u001b[0m\u001b[1;33m]\u001b[0m\u001b[1;33m,\u001b[0m \u001b[1;34m'-'\u001b[0m\u001b[1;33m,\u001b[0m \u001b[0mitem\u001b[0m\u001b[1;33m[\u001b[0m\u001b[1;34m'movie_title'\u001b[0m\u001b[1;33m]\u001b[0m\u001b[1;33m,\u001b[0m \u001b[1;34m'('\u001b[0m\u001b[1;33m+\u001b[0m\u001b[0mitem\u001b[0m\u001b[1;33m[\u001b[0m\u001b[1;34m'year'\u001b[0m\u001b[1;33m]\u001b[0m\u001b[1;33m+\u001b[0m\u001b[1;34m') -'\u001b[0m\u001b[1;33m,\u001b[0m \u001b[1;34m'Starring:'\u001b[0m\u001b[1;33m,\u001b[0m \u001b[0mitem\u001b[0m\u001b[1;33m[\u001b[0m\u001b[1;34m'star_cast'\u001b[0m\u001b[1;33m]\u001b[0m\u001b[1;33m)\u001b[0m\u001b[1;33m\u001b[0m\u001b[1;33m\u001b[0m\u001b[0m\n\u001b[0;32m      3\u001b[0m \u001b[1;33m\u001b[0m\u001b[0m\n\u001b[1;32m----> 4\u001b[1;33m \u001b[0mprint\u001b[0m\u001b[1;33m(\u001b[0m\u001b[0mitem\u001b[0m\u001b[1;33m)\u001b[0m\u001b[1;33m\u001b[0m\u001b[1;33m\u001b[0m\u001b[0m\n\u001b[0m",
      "\u001b[1;31mNameError\u001b[0m: name 'item' is not defined"
     ]
    }
   ],
   "source": [
    "for item in imdb:\n",
    "    print(item['place'], '-', item['movie_title'], '('+item['year']+') -', 'Starring:', item['star_cast'])\n",
    "    \n",
    "print(item)"
   ]
  },
  {
   "cell_type": "code",
   "execution_count": 46,
   "id": "efbec663",
   "metadata": {},
   "outputs": [
    {
     "ename": "NameError",
     "evalue": "name 'item' is not defined",
     "output_type": "error",
     "traceback": [
      "\u001b[1;31m---------------------------------------------------------------------------\u001b[0m",
      "\u001b[1;31mNameError\u001b[0m                                 Traceback (most recent call last)",
      "\u001b[1;32m<ipython-input-46-2d50c3117fbd>\u001b[0m in \u001b[0;36m<module>\u001b[1;34m\u001b[0m\n\u001b[1;32m----> 1\u001b[1;33m \u001b[0mitem\u001b[0m\u001b[1;33m\u001b[0m\u001b[1;33m\u001b[0m\u001b[0m\n\u001b[0m",
      "\u001b[1;31mNameError\u001b[0m: name 'item' is not defined"
     ]
    }
   ],
   "source": []
  },
  {
   "cell_type": "code",
   "execution_count": 53,
   "id": "4a2fd98a",
   "metadata": {},
   "outputs": [
    {
     "name": "stdout",
     "output_type": "stream",
     "text": [
      "1 - The Shawshank Redemption (1994) - Starring: Frank Darabont (dir.), Tim Robbins, Morgan Freeman\n",
      "2 - The Godfather (1972) - Starring: Francis Ford Coppola (dir.), Marlon Brando, Al Pacino\n",
      "3 - The Dark Knight (2008) - Starring: Christopher Nolan (dir.), Christian Bale, Heath Ledger\n",
      "4 - The Godfather Part II (1974) - Starring: Francis Ford Coppola (dir.), Al Pacino, Robert De Niro\n",
      "5 - 12 Angry Men (1957) - Starring: Sidney Lumet (dir.), Henry Fonda, Lee J. Cobb\n",
      "6 - Schindler's List (1993) - Starring: Steven Spielberg (dir.), Liam Neeson, Ralph Fiennes\n",
      "7 - The Lord of the Rings: The Return of the King (2003) - Starring: Peter Jackson (dir.), Elijah Wood, Viggo Mortensen\n",
      "8 - Pulp Fiction (1994) - Starring: Quentin Tarantino (dir.), John Travolta, Uma Thurman\n",
      "9 - The Lord of the Rings: The Fellowship of the Ring (2001) - Starring: Peter Jackson (dir.), Elijah Wood, Ian McKellen\n",
      "1 -  Il buono, il brutto, il cattivo (1966) - Starring: Sergio Leone (dir.), Clint Eastwood, Eli Wallach\n",
      "11 - Forrest Gump (1994) - Starring: Robert Zemeckis (dir.), Tom Hanks, Robin Wright\n",
      "12 - Fight Club (1999) - Starring: David Fincher (dir.), Brad Pitt, Edward Norton\n",
      "13 - Inception (2010) - Starring: Christopher Nolan (dir.), Leonardo DiCaprio, Joseph Gordon-Levitt\n",
      "14 - The Lord of the Rings: The Two Towers (2002) - Starring: Peter Jackson (dir.), Elijah Wood, Ian McKellen\n",
      "15 - The Empire Strikes Back (1980) - Starring: Irvin Kershner (dir.), Mark Hamill, Harrison Ford\n",
      "16 - The Matrix (1999) - Starring: Lana Wachowski (dir.), Keanu Reeves, Laurence Fishburne\n",
      "17 - Goodfellas (1990) - Starring: Martin Scorsese (dir.), Robert De Niro, Ray Liotta\n",
      "18 - One Flew Over the Cuckoo's Nest (1975) - Starring: Milos Forman (dir.), Jack Nicholson, Louise Fletcher\n",
      "19 - Se7en (1995) - Starring: David Fincher (dir.), Morgan Freeman, Brad Pitt\n",
      "20 - Shichinin no samurai (1954) - Starring: Akira Kurosawa (dir.), Toshirô Mifune, Takashi Shimura\n",
      "21 - It's a Wonderful Life (1946) - Starring: Frank Capra (dir.), James Stewart, Donna Reed\n",
      "22 - The Silence of the Lambs (1991) - Starring: Jonathan Demme (dir.), Jodie Foster, Anthony Hopkins\n",
      "23 - Cidade de Deus (2002) - Starring: Fernando Meirelles (dir.), Alexandre Rodrigues, Leandro Firmino\n",
      "24 - Saving Private Ryan (1998) - Starring: Steven Spielberg (dir.), Tom Hanks, Matt Damon\n",
      "25 - La vita è bella (1997) - Starring: Roberto Benigni (dir.), Roberto Benigni, Nicoletta Braschi\n",
      "26 - The Green Mile (1999) - Starring: Frank Darabont (dir.), Tom Hanks, Michael Clarke Duncan\n",
      "27 - Interstellar (2014) - Starring: Christopher Nolan (dir.), Matthew McConaughey, Anne Hathaway\n",
      "28 - Star Wars (1977) - Starring: George Lucas (dir.), Mark Hamill, Harrison Ford\n",
      "29 - Terminator 2: Judgment Day (1991) - Starring: James Cameron (dir.), Arnold Schwarzenegger, Linda Hamilton\n",
      "30 - Back to the Future (1985) - Starring: Robert Zemeckis (dir.), Michael J. Fox, Christopher Lloyd\n",
      "31 - Sen to Chihiro no kamikakushi (2001) - Starring: Hayao Miyazaki (dir.), Daveigh Chase, Suzanne Pleshette\n",
      "32 - Psycho (1960) - Starring: Alfred Hitchcock (dir.), Anthony Perkins, Janet Leigh\n",
      "33 - The Pianist (2002) - Starring: Roman Polanski (dir.), Adrien Brody, Thomas Kretschmann\n",
      "34 - Léon (1994) - Starring: Luc Besson (dir.), Jean Reno, Gary Oldman\n",
      "35 - Gisaengchung (2019) - Starring: Bong Joon Ho (dir.), Song Kang-ho, Lee Sun-kyun\n",
      "36 - The Lion King (1994) - Starring: Roger Allers (dir.), Matthew Broderick, Jeremy Irons\n",
      "37 - Gladiator (2000) - Starring: Ridley Scott (dir.), Russell Crowe, Joaquin Phoenix\n",
      "38 - American History X (1998) - Starring: Tony Kaye (dir.), Edward Norton, Edward Furlong\n",
      "39 - The Departed (2006) - Starring: Martin Scorsese (dir.), Leonardo DiCaprio, Matt Damon\n",
      "40 - The Usual Suspects (1995) - Starring: Bryan Singer (dir.), Kevin Spacey, Gabriel Byrne\n",
      "41 - The Prestige (2006) - Starring: Christopher Nolan (dir.), Christian Bale, Hugh Jackman\n",
      "42 - Casablanca (1942) - Starring: Michael Curtiz (dir.), Humphrey Bogart, Ingrid Bergman\n",
      "43 - Whiplash (2014) - Starring: Damien Chazelle (dir.), Miles Teller, J.K. Simmons\n",
      "44 - The Intouchables (2011) - Starring: Olivier Nakache (dir.), François Cluzet, Omar Sy\n",
      "45 - Seppuku (1962) - Starring: Masaki Kobayashi (dir.), Tatsuya Nakadai, Akira Ishihama\n",
      "46 - Hotaru no haka (1988) - Starring: Isao Takahata (dir.), Tsutomu Tatsumi, Ayano Shiraishi\n",
      "47 - Modern Times (1936) - Starring: Charles Chaplin (dir.), Charles Chaplin, Paulette Goddard\n",
      "48 - Once Upon a Time in the West (1968) - Starring: Sergio Leone (dir.), Henry Fonda, Charles Bronson\n",
      "49 - Rear Window (1954) - Starring: Alfred Hitchcock (dir.), James Stewart, Grace Kelly\n",
      "50 - Alien (1979) - Starring: Ridley Scott (dir.), Sigourney Weaver, Tom Skerritt\n",
      "51 - City Lights (1931) - Starring: Charles Chaplin (dir.), Charles Chaplin, Virginia Cherrill\n",
      "52 - Nuovo Cinema Paradiso (1988) - Starring: Giuseppe Tornatore (dir.), Philippe Noiret, Enzo Cannavale\n",
      "53 - Apocalypse Now (1979) - Starring: Francis Ford Coppola (dir.), Martin Sheen, Marlon Brando\n",
      "54 - Memento (2000) - Starring: Christopher Nolan (dir.), Guy Pearce, Carrie-Anne Moss\n",
      "55 - Raiders of the Lost Ark (1981) - Starring: Steven Spielberg (dir.), Harrison Ford, Karen Allen\n",
      "56 - Django Unchained (2012) - Starring: Quentin Tarantino (dir.), Jamie Foxx, Christoph Waltz\n",
      "57 - WALL·E (2008) - Starring: Andrew Stanton (dir.), Ben Burtt, Elissa Knight\n",
      "58 - The Lives of Others (2006) - Starring: Florian Henckel von Donnersmarck (dir.), Ulrich Mühe, Martina Gedeck\n",
      "59 - Sunset Blvd (1950) - Starring: Billy Wilder (dir.), William Holden, Gloria Swanson\n",
      "60 - Paths of Glory (1957) - Starring: Stanley Kubrick (dir.), Kirk Douglas, Ralph Meeker\n",
      "61 - The Shining (1980) - Starring: Stanley Kubrick (dir.), Jack Nicholson, Shelley Duvall\n",
      "62 - The Great Dictator (1940) - Starring: Charles Chaplin (dir.), Charles Chaplin, Paulette Goddard\n",
      "63 - Avengers: Infinity War (2018) - Starring: Anthony Russo (dir.), Robert Downey Jr., Chris Hemsworth\n",
      "64 - Witness for the Prosecution (1957) - Starring: Billy Wilder (dir.), Tyrone Power, Marlene Dietrich\n",
      "65 - Top Gun: Maverick (2022) - Starring: Joseph Kosinski (dir.), Tom Cruise, Jennifer Connelly\n",
      "66 - Aliens (1986) - Starring: James Cameron (dir.), Sigourney Weaver, Michael Biehn\n",
      "67 - American Beauty (1999) - Starring: Sam Mendes (dir.), Kevin Spacey, Annette Bening\n",
      "68 - Dr Strangelove or: How I Learned to Stop Worrying and Love the Bomb (1964) - Starring: Stanley Kubrick (dir.), Peter Sellers, George C. Scott\n",
      "69 - Spider-Man: Into the Spider-Verse (2018) - Starring: Bob Persichetti (dir.), Shameik Moore, Jake Johnson\n",
      "70 - The Dark Knight Rises (2012) - Starring: Christopher Nolan (dir.), Christian Bale, Tom Hardy\n",
      "71 - Oldeuboi (2003) - Starring: Park Chan-wook (dir.), Choi Min-sik, Yoo Ji-tae\n",
      "72 - Joker (2019) - Starring: Todd Phillips (dir.), Joaquin Phoenix, Robert De Niro\n",
      "73 - Amadeus (1984) - Starring: Milos Forman (dir.), F. Murray Abraham, Tom Hulce\n",
      "74 - Braveheart (1995) - Starring: Mel Gibson (dir.), Mel Gibson, Sophie Marceau\n",
      "75 - Toy Story (1995) - Starring: John Lasseter (dir.), Tom Hanks, Tim Allen\n",
      "76 - Inglourious Basterds (2009) - Starring: Quentin Tarantino (dir.), Brad Pitt, Diane Kruger\n",
      "77 - Coco (2017) - Starring: Lee Unkrich (dir.), Anthony Gonzalez, Gael García Bernal\n",
      "78 - Das Boot (1981) - Starring: Wolfgang Petersen (dir.), Jürgen Prochnow, Herbert Grönemeyer\n",
      "79 - Mononoke-hime (1997) - Starring: Hayao Miyazaki (dir.), Yôji Matsuda, Yuriko Ishida\n",
      "80 - Avengers: Endgame (2019) - Starring: Anthony Russo (dir.), Robert Downey Jr., Chris Evans\n",
      "81 - Once Upon a Time in America (1984) - Starring: Sergio Leone (dir.), Robert De Niro, James Woods\n",
      "82 - Good Will Hunting (1997) - Starring: Gus Van Sant (dir.), Robin Williams, Matt Damon\n",
      "83 - Kimi no na wa (2016) - Starring: Makoto Shinkai (dir.), Ryûnosuke Kamiki, Mone Kamishiraishi\n",
      "84 - Requiem for a Dream (2000) - Starring: Darren Aronofsky (dir.), Ellen Burstyn, Jared Leto\n",
      "85 - Toy Story 3 (2010) - Starring: Lee Unkrich (dir.), Tom Hanks, Tim Allen\n",
      "86 - Singin' in the Rain (1952) - Starring: Stanley Donen (dir.), Gene Kelly, Donald O'Connor\n",
      "87 - 3 Idiots (2009) - Starring: Rajkumar Hirani (dir.), Aamir Khan, Madhavan\n",
      "88 - Tengoku to jigoku (1963) - Starring: Akira Kurosawa (dir.), Toshirô Mifune, Yutaka Sada\n",
      "89 - Star Wars: Episode VI - Return of the Jedi (1983) - Starring: Richard Marquand (dir.), Mark Hamill, Harrison Ford\n",
      "90 - 2001: A Space Odyssey (1968) - Starring: Stanley Kubrick (dir.), Keir Dullea, Gary Lockwood\n",
      "91 - Eternal Sunshine of the Spotless Mind (2004) - Starring: Michel Gondry (dir.), Jim Carrey, Kate Winslet\n",
      "92 - Reservoir Dogs (1992) - Starring: Quentin Tarantino (dir.), Harvey Keitel, Tim Roth\n",
      "93 - Capharnaüm (2018) - Starring: Nadine Labaki (dir.), Zain Al Rafeea, Yordanos Shiferaw\n",
      "94 - Jagten (2012) - Starring: Thomas Vinterberg (dir.), Mads Mikkelsen, Thomas Bo Larsen\n",
      "95 - Lawrence of Arabia (1962) - Starring: David Lean (dir.), Peter O'Toole, Alec Guinness\n",
      "96 - Citizen Kane (1941) - Starring: Orson Welles (dir.), Orson Welles, Joseph Cotten\n",
      "97 - M - Eine Stadt sucht einen Mörder (1931) - Starring: Fritz Lang (dir.), Peter Lorre, Ellen Widmann\n",
      "98 - North by Northwest (1959) - Starring: Alfred Hitchcock (dir.), Cary Grant, Eva Marie Saint\n",
      "99 - Idi i smotri (1985) - Starring: Elem Klimov (dir.), Aleksey Kravchenko, Olga Mironova\n",
      "10 -  Vertigo (1958) - Starring: Alfred Hitchcock (dir.), James Stewart, Kim Novak\n",
      "101 - Le fabuleux destin d'Amélie Poulain (2001) - Starring: Jean-Pierre Jeunet (dir.), Audrey Tautou, Mathieu Kassovitz\n",
      "102 - A Clockwork Orange (1971) - Starring: Stanley Kubrick (dir.), Malcolm McDowell, Patrick Magee\n",
      "103 - Double Indemnity (1944) - Starring: Billy Wilder (dir.), Fred MacMurray, Barbara Stanwyck\n",
      "104 - Full Metal Jacket (1987) - Starring: Stanley Kubrick (dir.), Matthew Modine, R. Lee Ermey\n",
      "105 - The Apartment (1960) - Starring: Billy Wilder (dir.), Jack Lemmon, Shirley MacLaine\n",
      "106 - Ikiru (1952) - Starring: Akira Kurosawa (dir.), Takashi Shimura, Nobuo Kaneko\n",
      "107 - Scarface (1983) - Starring: Brian De Palma (dir.), Al Pacino, Michelle Pfeiffer\n",
      "108 - The Sting (1973) - Starring: George Roy Hill (dir.), Paul Newman, Robert Redford\n",
      "109 - To Kill a Mockingbird (1962) - Starring: Robert Mulligan (dir.), Gregory Peck, John Megna\n",
      "110 - Taxi Driver (1976) - Starring: Martin Scorsese (dir.), Robert De Niro, Jodie Foster\n",
      "111 - Heat (1995) - Starring: Michael Mann (dir.), Al Pacino, Robert De Niro\n",
      "112 - Up (2009) - Starring: Pete Docter (dir.), Edward Asner, Jordan Nagai\n",
      "113 - LA Confidential (1997) - Starring: Curtis Hanson (dir.), Kevin Spacey, Russell Crowe\n",
      "114 - Incendies (2010) - Starring: Denis Villeneuve (dir.), Lubna Azabal, Mélissa Désormeaux-Poulin\n",
      "115 - Metropolis (1927) - Starring: Fritz Lang (dir.), Brigitte Helm, Alfred Abel\n",
      "116 - Jodaeiye Nader az Simin (2011) - Starring: Asghar Farhadi (dir.), Payman Maadi, Leila Hatami\n",
      "117 - Hamilton (2020) - Starring: Thomas Kail (dir.), Lin-Manuel Miranda, Phillipa Soo\n",
      "118 - Die Hard (1988) - Starring: John McTiernan (dir.), Bruce Willis, Alan Rickman\n",
      "119 - Snatch (2000) - Starring: Guy Ritchie (dir.), Jason Statham, Brad Pitt\n",
      "120 - Indiana Jones and the Last Crusade (1989) - Starring: Steven Spielberg (dir.), Harrison Ford, Sean Connery\n",
      "121 - Ladri di biciclette (1948) - Starring: Vittorio De Sica (dir.), Lamberto Maggiorani, Enzo Staiola\n",
      "122 - 1917 (2019) - Starring: Sam Mendes (dir.), Dean-Charles Chapman, George MacKay\n",
      "123 - Taare Zameen Par (2007) - Starring: Aamir Khan (dir.), Darsheel Safary, Aamir Khan\n",
      "124 - Der Untergang (2004) - Starring: Oliver Hirschbiegel (dir.), Bruno Ganz, Alexandra Maria Lara\n",
      "125 - Per qualche dollaro in più (1965) - Starring: Sergio Leone (dir.), Clint Eastwood, Lee Van Cleef\n",
      "126 - Batman Begins (2005) - Starring: Christopher Nolan (dir.), Christian Bale, Michael Caine\n",
      "127 - Dangal (2016) - Starring: Nitesh Tiwari (dir.), Aamir Khan, Sakshi Tanwar\n",
      "128 - The Kid (1921) - Starring: Charles Chaplin (dir.), Charles Chaplin, Edna Purviance\n",
      "129 - Some Like It Hot (1959) - Starring: Billy Wilder (dir.), Marilyn Monroe, Tony Curtis\n",
      "130 - All About Eve (1950) - Starring: Joseph L. Mankiewicz (dir.), Bette Davis, Anne Baxter\n",
      "131 - The Father (2020) - Starring: Florian Zeller (dir.), Anthony Hopkins, Olivia Colman\n",
      "132 - Green Book (2018) - Starring: Peter Farrelly (dir.), Viggo Mortensen, Mahershala Ali\n",
      "133 - The Wolf of Wall Street (2013) - Starring: Martin Scorsese (dir.), Leonardo DiCaprio, Jonah Hill\n",
      "134 - Judgment at Nuremberg (1961) - Starring: Stanley Kramer (dir.), Spencer Tracy, Burt Lancaster\n",
      "135 - Spider-Man: No Way Home (2021) - Starring: Jon Watts (dir.), Tom Holland, Zendaya\n",
      "136 - Ran (1985) - Starring: Akira Kurosawa (dir.), Tatsuya Nakadai, Akira Terao\n",
      "137 - Casino (1995) - Starring: Martin Scorsese (dir.), Robert De Niro, Sharon Stone\n",
      "138 - Unforgiven (1992) - Starring: Clint Eastwood (dir.), Clint Eastwood, Gene Hackman\n",
      "139 - Pan's Labyrinth (2006) - Starring: Guillermo del Toro (dir.), Ivana Baquero, Ariadna Gil\n",
      "140 - There Will Be Blood (2007) - Starring: Paul Thomas Anderson (dir.), Daniel Day-Lewis, Paul Dano\n",
      "141 - The Truman Show (1998) - Starring: Peter Weir (dir.), Jim Carrey, Ed Harris\n",
      "142 - The Sixth Sense (1999) - Starring: M. Night Shyamalan (dir.), Bruce Willis, Haley Joel Osment\n",
      "143 - A Beautiful Mind (2001) - Starring: Ron Howard (dir.), Russell Crowe, Ed Harris\n",
      "144 - Monty Python and the Holy Grail (1975) - Starring: Terry Gilliam (dir.), Graham Chapman, John Cleese\n",
      "145 - Yôjinbô (1961) - Starring: Akira Kurosawa (dir.), Toshirô Mifune, Eijirô Tôno\n",
      "146 - The Treasure of the Sierra Madre (1948) - Starring: John Huston (dir.), Humphrey Bogart, Walter Huston\n",
      "147 - Shutter Island (2010) - Starring: Martin Scorsese (dir.), Leonardo DiCaprio, Emily Mortimer\n",
      "148 - Jurassic Park (1993) - Starring: Steven Spielberg (dir.), Sam Neill, Laura Dern\n",
      "149 - Rashômon (1950) - Starring: Akira Kurosawa (dir.), Toshirô Mifune, Machiko Kyô\n",
      "150 - The Great Escape (1963) - Starring: John Sturges (dir.), Steve McQueen, James Garner\n",
      "151 - Kill Bill: Vol 1 (2003) - Starring: Quentin Tarantino (dir.), Uma Thurman, David Carradine\n",
      "152 - No Country for Old Men (2007) - Starring: Ethan Coen (dir.), Tommy Lee Jones, Javier Bardem\n",
      "153 - Finding Nemo (2003) - Starring: Andrew Stanton (dir.), Albert Brooks, Ellen DeGeneres\n",
      "154 - The Elephant Man (1980) - Starring: David Lynch (dir.), Anthony Hopkins, John Hurt\n",
      "155 - Chinatown (1974) - Starring: Roman Polanski (dir.), Jack Nicholson, Faye Dunaway\n",
      "156 - Raging Bull (1980) - Starring: Martin Scorsese (dir.), Robert De Niro, Cathy Moriarty\n",
      "157 - The Thing (1982) - Starring: John Carpenter (dir.), Kurt Russell, Wilford Brimley\n",
      "158 - Gone with the Wind (1939) - Starring: Victor Fleming (dir.), Clark Gable, Vivien Leigh\n",
      "159 - V for Vendetta (2005) - Starring: James McTeigue (dir.), Hugo Weaving, Natalie Portman\n",
      "160 - Inside Out (2015) - Starring: Pete Docter (dir.), Amy Poehler, Bill Hader\n",
      "161 - Lock, Stock and Two Smoking Barrels (1998) - Starring: Guy Ritchie (dir.), Jason Flemyng, Dexter Fletcher\n",
      "162 - Dial M for Murder (1954) - Starring: Alfred Hitchcock (dir.), Ray Milland, Grace Kelly\n",
      "163 - El secreto de sus ojos (2009) - Starring: Juan José Campanella (dir.), Ricardo Darín, Soledad Villamil\n",
      "164 - Hauru no ugoku shiro (2004) - Starring: Hayao Miyazaki (dir.), Chieko Baishô, Takuya Kimura\n",
      "165 - The Bridge on the River Kwai (1957) - Starring: David Lean (dir.), William Holden, Alec Guinness\n",
      "166 - Three Billboards Outside Ebbing, Missouri (2017) - Starring: Martin McDonagh (dir.), Frances McDormand, Woody Harrelson\n",
      "167 - Trainspotting (1996) - Starring: Danny Boyle (dir.), Ewan McGregor, Ewen Bremner\n",
      "168 - Warrior (2011) - Starring: Gavin O'Connor (dir.), Tom Hardy, Nick Nolte\n",
      "169 - Gran Torino (2008) - Starring: Clint Eastwood (dir.), Clint Eastwood, Bee Vang\n",
      "170 - Fargo (1996) - Starring: Joel Coen (dir.), William H. Macy, Frances McDormand\n",
      "171 - Prisoners (2013) - Starring: Denis Villeneuve (dir.), Hugh Jackman, Jake Gyllenhaal\n",
      "172 - Tonari no Totoro (1988) - Starring: Hayao Miyazaki (dir.), Hitoshi Takagi, Noriko Hidaka\n",
      "173 - Million Dollar Baby (2004) - Starring: Clint Eastwood (dir.), Hilary Swank, Clint Eastwood\n",
      "174 - Catch Me If You Can (2002) - Starring: Steven Spielberg (dir.), Leonardo DiCaprio, Tom Hanks\n",
      "175 - The Gold Rush (1925) - Starring: Charles Chaplin (dir.), Charles Chaplin, Mack Swain\n",
      "176 - Blade Runner (1982) - Starring: Ridley Scott (dir.), Harrison Ford, Rutger Hauer\n",
      "177 - On the Waterfront (1954) - Starring: Elia Kazan (dir.), Marlon Brando, Karl Malden\n",
      "178 - Bacheha-Ye aseman (1997) - Starring: Majid Majidi (dir.), Mohammad Amir Naji, Amir Farrokh Hashemian\n",
      "179 - The Third Man (1949) - Starring: Carol Reed (dir.), Orson Welles, Joseph Cotten\n",
      "180 - Before Sunrise (1995) - Starring: Richard Linklater (dir.), Ethan Hawke, Julie Delpy\n",
      "181 - Ben-Hur (1959) - Starring: William Wyler (dir.), Charlton Heston, Jack Hawkins\n",
      "182 - 12 Years a Slave (2013) - Starring: Steve McQueen (dir.), Chiwetel Ejiofor, Michael Kenneth Williams\n",
      "183 - Smultronstället (1957) - Starring: Ingmar Bergman (dir.), Victor Sjöström, Bibi Andersson\n",
      "184 - Harry Potter and the Deathly Hallows: Part 2 (2011) - Starring: David Yates (dir.), Daniel Radcliffe, Emma Watson\n",
      "185 - Gone Girl (2014) - Starring: David Fincher (dir.), Ben Affleck, Rosamund Pike\n",
      "186 - The General (1926) - Starring: Clyde Bruckman (dir.), Buster Keaton, Marion Mack\n",
      "187 - The Deer Hunter (1978) - Starring: Michael Cimino (dir.), Robert De Niro, Christopher Walken\n",
      "188 - In the Name of the Father (1993) - Starring: Jim Sheridan (dir.), Daniel Day-Lewis, Pete Postlethwaite\n",
      "189 - The Grand Budapest Hotel (2014) - Starring: Wes Anderson (dir.), Ralph Fiennes, F. Murray Abraham\n",
      "190 - Barry Lyndon (1975) - Starring: Stanley Kubrick (dir.), Ryan O'Neal, Marisa Berenson\n",
      "191 - Le salaire de la peur (1953) - Starring: Henri-Georges Clouzot (dir.), Yves Montand, Charles Vanel\n",
      "192 - Mr Smith Goes to Washington (1939) - Starring: Frank Capra (dir.), James Stewart, Jean Arthur\n",
      "193 - Sherlock Jr (1924) - Starring: Buster Keaton (dir.), Buster Keaton, Kathryn McGuire\n",
      "194 - Hacksaw Ridge (2016) - Starring: Mel Gibson (dir.), Andrew Garfield, Sam Worthington\n",
      "195 - Salinui chueok (2003) - Starring: Bong Joon Ho (dir.), Song Kang-ho, Kim Sang-kyung\n",
      "196 - Klaus (2019) - Starring: Sergio Pablos (dir.), Jason Schwartzman, J.K. Simmons\n",
      "197 - Relatos salvajes (2014) - Starring: Damián Szifron (dir.), Darío Grandinetti, María Marull\n",
      "198 - Det sjunde inseglet (1957) - Starring: Ingmar Bergman (dir.), Max von Sydow, Gunnar Björnstrand\n",
      "199 - Room (2015) - Starring: Lenny Abrahamson (dir.), Brie Larson, Jacob Tremblay\n",
      "200 - Everything Everywhere All at Once (2022) - Starring: Dan Kwan (dir.), Michelle Yeoh, Stephanie Hsu\n",
      "201 - Mad Max: Fury Road (2015) - Starring: George Miller (dir.), Tom Hardy, Charlize Theron\n",
      "202 - How to Train Your Dragon (2010) - Starring: Dean DeBlois (dir.), Jay Baruchel, Gerard Butler\n",
      "203 - The Big Lebowski (1998) - Starring: Joel Coen (dir.), Jeff Bridges, John Goodman\n",
      "204 - Mary and Max (2009) - Starring: Adam Elliot (dir.), Toni Collette, Philip Seymour Hoffman\n",
      "205 - Jaws (1975) - Starring: Steven Spielberg (dir.), Roy Scheider, Robert Shaw\n",
      "206 - Monsters, Inc (2001) - Starring: Pete Docter (dir.), Billy Crystal, John Goodman\n",
      "207 - Tôkyô monogatari (1953) - Starring: Yasujirô Ozu (dir.), Chishû Ryû, Chieko Higashiyama\n",
      "208 - Dead Poets Society (1989) - Starring: Peter Weir (dir.), Robin Williams, Robert Sean Leonard\n",
      "209 - La passion de Jeanne d'Arc (1928) - Starring: Carl Theodor Dreyer (dir.), Maria Falconetti, Eugene Silvain\n",
      "210 - Hotel Rwanda (2004) - Starring: Terry George (dir.), Don Cheadle, Sophie Okonedo\n",
      "211 - Rocky (1976) - Starring: John G. Avildsen (dir.), Sylvester Stallone, Talia Shire\n",
      "212 - Ford v Ferrari (2019) - Starring: James Mangold (dir.), Matt Damon, Christian Bale\n",
      "213 - Platoon (1986) - Starring: Oliver Stone (dir.), Charlie Sheen, Tom Berenger\n",
      "214 - Pather Panchali (1955) - Starring: Satyajit Ray (dir.), Kanu Bannerjee, Karuna Bannerjee\n",
      "215 - Stand by Me (1986) - Starring: Rob Reiner (dir.), Wil Wheaton, River Phoenix\n",
      "216 - The Terminator (1984) - Starring: James Cameron (dir.), Arnold Schwarzenegger, Linda Hamilton\n",
      "217 - Spotlight (2015) - Starring: Tom McCarthy (dir.), Mark Ruffalo, Michael Keaton\n",
      "218 - Rush (2013) - Starring: Ron Howard (dir.), Daniel Brühl, Chris Hemsworth\n",
      "219 - Logan (2017) - Starring: James Mangold (dir.), Hugh Jackman, Patrick Stewart\n",
      "220 - Network (1976) - Starring: Sidney Lumet (dir.), Faye Dunaway, William Holden\n",
      "221 - Ratatouille (2007) - Starring: Brad Bird (dir.), Brad Garrett, Lou Romano\n",
      "222 - Into the Wild (2007) - Starring: Sean Penn (dir.), Emile Hirsch, Vince Vaughn\n",
      "223 - The Wizard of Oz (1939) - Starring: Victor Fleming (dir.), Judy Garland, Frank Morgan\n",
      "224 - Groundhog Day (1993) - Starring: Harold Ramis (dir.), Bill Murray, Andie MacDowell\n",
      "225 - Before Sunset (2004) - Starring: Richard Linklater (dir.), Ethan Hawke, Julie Delpy\n",
      "226 - The Exorcist (1973) - Starring: William Friedkin (dir.), Ellen Burstyn, Max von Sydow\n",
      "227 - The Best Years of Our Lives (1946) - Starring: William Wyler (dir.), Myrna Loy, Dana Andrews\n",
      "228 - The Incredibles (2004) - Starring: Brad Bird (dir.), Craig T. Nelson, Samuel L. Jackson\n",
      "229 - To Be or Not to Be (1942) - Starring: Ernst Lubitsch (dir.), Carole Lombard, Jack Benny\n",
      "230 - La battaglia di Algeri (1966) - Starring: Gillo Pontecorvo (dir.), Brahim Hadjadj, Jean Martin\n",
      "231 - The Grapes of Wrath (1940) - Starring: John Ford (dir.), Henry Fonda, Jane Darwell\n",
      "232 - Rebecca (1940) - Starring: Alfred Hitchcock (dir.), Laurence Olivier, Joan Fontaine\n",
      "233 - Hachi: A Dog's Tale (2009) - Starring: Lasse Hallström (dir.), Richard Gere, Joan Allen\n",
      "234 - Cool Hand Luke (1967) - Starring: Stuart Rosenberg (dir.), Paul Newman, George Kennedy\n",
      "235 - Amores perros (2000) - Starring: Alejandro G. Iñárritu (dir.), Emilio Echevarría, Gael García Bernal\n",
      "236 - Pirates of the Caribbean: The Curse of the Black Pearl (2003) - Starring: Gore Verbinski (dir.), Johnny Depp, Geoffrey Rush\n",
      "237 - Jai Bhim (2021) - Starring: T.J. Gnanavel (dir.), Suriya, Lijo Mol Jose\n",
      "238 - La haine (1995) - Starring: Mathieu Kassovitz (dir.), Vincent Cassel, Hubert Koundé\n",
      "239 - Babam ve Oglum (2005) - Starring: Cagan Irmak (dir.), Çetin Tekindor, Fikret Kuskan\n",
      "240 - Les quatre cents coups (1959) - Starring: François Truffaut (dir.), Jean-Pierre Léaud, Albert Rémy\n",
      "241 - Persona (1966) - Starring: Ingmar Bergman (dir.), Bibi Andersson, Liv Ullmann\n",
      "242 - It Happened One Night (1934) - Starring: Frank Capra (dir.), Clark Gable, Claudette Colbert\n",
      "243 - The Sound of Music (1965) - Starring: Robert Wise (dir.), Julie Andrews, Christopher Plummer\n",
      "244 - Life of Brian (1979) - Starring: Terry Jones (dir.), Graham Chapman, John Cleese\n",
      "245 - Ah-ga-ssi (2016) - Starring: Park Chan-wook (dir.), Kim Min-hee, Ha Jung-woo\n",
      "246 - Dersu Uzala (1975) - Starring: Akira Kurosawa (dir.), Maksim Munzuk, Yuriy Solomin\n",
      "247 - Aladdin (1992) - Starring: Ron Clements (dir.), Scott Weinger, Robin Williams\n",
      "248 - Gandhi (1982) - Starring: Richard Attenborough (dir.), Ben Kingsley, John Gielgud\n",
      "249 - The Help (2011) - Starring: Tate Taylor (dir.), Viola Davis, Emma Stone\n",
      "250 - The Iron Giant (1999) - Starring: Brad Bird (dir.), Eli Marienthal, Harry Connick Jr.\n"
     ]
    }
   ],
   "source": [
    "#https://bit.ly/2NyxdAG\n",
    "from bs4 import BeautifulSoup\n",
    "import requests\n",
    "import re\n",
    "\n",
    "# Download IMDB's Top 250 data\n",
    "url = 'https://www.imdb.com/search/title/?release_date=2018'\n",
    "response = requests.get(url)\n",
    "soup = BeautifulSoup(response.text, 'lxml')\n",
    "\n",
    "movies = soup.select('td.titleColumn')\n",
    "links = [a.attrs.get('href') for a in soup.select('td.titleColumn a')]\n",
    "crew = [a.attrs.get('title') for a in soup.select('td.titleColumn a')]\n",
    "ratings = [b.attrs.get('data-value') for b in soup.select('td.posterColumn span[name=ir]')]\n",
    "votes = [b.attrs.get('data-value') for b in soup.select('td.ratingColumn strong')]\n",
    "\n",
    "imdb = []\n",
    "\n",
    "# Store each item into dictionary (data), then put those into a list (imdb)\n",
    "for index in range(0, len(movies)):\n",
    "    # Seperate movie into: 'place', 'title', 'year'\n",
    "    movie_string = movies[index].get_text()\n",
    "    movie = (' '.join(movie_string.split()).replace('.', ''))\n",
    "    movie_title = movie[len(str(index))+1:-7]\n",
    "    year = re.search('\\((.*?)\\)', movie_string).group(1)\n",
    "    place = movie[:len(str(index))-(len(movie))]\n",
    "    data = {\"movie_title\": movie_title,\n",
    "            \"year\": year,\n",
    "            \"place\": place,\n",
    "            \"star_cast\": crew[index],\n",
    "            \"rating\": ratings[index],\n",
    "            \"vote\": votes[index],\n",
    "            \"link\": links[index]}\n",
    "    imdb.append(data)\n",
    "\n",
    "for item in imdb:\n",
    "    print(item['place'], '-', item['movie_title'], '('+item['year']+') -', 'Starring:', item['star_cast'])\n",
    "  "
   ]
  },
  {
   "cell_type": "code",
   "execution_count": 56,
   "id": "5f865698",
   "metadata": {},
   "outputs": [
    {
     "name": "stdout",
     "output_type": "stream",
     "text": [
      "1 - The Shawshank Redemption (1994) - Starring: Frank Darabont (dir.), Tim Robbins, Morgan Freeman\n",
      "2 - The Godfather (1972) - Starring: Francis Ford Coppola (dir.), Marlon Brando, Al Pacino\n",
      "3 - The Dark Knight (2008) - Starring: Christopher Nolan (dir.), Christian Bale, Heath Ledger\n",
      "4 - The Godfather Part II (1974) - Starring: Francis Ford Coppola (dir.), Al Pacino, Robert De Niro\n",
      "5 - 12 Angry Men (1957) - Starring: Sidney Lumet (dir.), Henry Fonda, Lee J. Cobb\n",
      "6 - Schindler's List (1993) - Starring: Steven Spielberg (dir.), Liam Neeson, Ralph Fiennes\n",
      "7 - The Lord of the Rings: The Return of the King (2003) - Starring: Peter Jackson (dir.), Elijah Wood, Viggo Mortensen\n",
      "8 - Pulp Fiction (1994) - Starring: Quentin Tarantino (dir.), John Travolta, Uma Thurman\n",
      "9 - The Lord of the Rings: The Fellowship of the Ring (2001) - Starring: Peter Jackson (dir.), Elijah Wood, Ian McKellen\n",
      "1 -  Il buono, il brutto, il cattivo (1966) - Starring: Sergio Leone (dir.), Clint Eastwood, Eli Wallach\n",
      "11 - Forrest Gump (1994) - Starring: Robert Zemeckis (dir.), Tom Hanks, Robin Wright\n",
      "12 - Fight Club (1999) - Starring: David Fincher (dir.), Brad Pitt, Edward Norton\n",
      "13 - Inception (2010) - Starring: Christopher Nolan (dir.), Leonardo DiCaprio, Joseph Gordon-Levitt\n",
      "14 - The Lord of the Rings: The Two Towers (2002) - Starring: Peter Jackson (dir.), Elijah Wood, Ian McKellen\n",
      "15 - The Empire Strikes Back (1980) - Starring: Irvin Kershner (dir.), Mark Hamill, Harrison Ford\n",
      "16 - The Matrix (1999) - Starring: Lana Wachowski (dir.), Keanu Reeves, Laurence Fishburne\n",
      "17 - Goodfellas (1990) - Starring: Martin Scorsese (dir.), Robert De Niro, Ray Liotta\n",
      "18 - One Flew Over the Cuckoo's Nest (1975) - Starring: Milos Forman (dir.), Jack Nicholson, Louise Fletcher\n",
      "19 - Se7en (1995) - Starring: David Fincher (dir.), Morgan Freeman, Brad Pitt\n",
      "20 - Shichinin no samurai (1954) - Starring: Akira Kurosawa (dir.), Toshirô Mifune, Takashi Shimura\n",
      "21 - It's a Wonderful Life (1946) - Starring: Frank Capra (dir.), James Stewart, Donna Reed\n",
      "22 - The Silence of the Lambs (1991) - Starring: Jonathan Demme (dir.), Jodie Foster, Anthony Hopkins\n",
      "23 - Cidade de Deus (2002) - Starring: Fernando Meirelles (dir.), Alexandre Rodrigues, Leandro Firmino\n",
      "24 - Saving Private Ryan (1998) - Starring: Steven Spielberg (dir.), Tom Hanks, Matt Damon\n",
      "25 - La vita è bella (1997) - Starring: Roberto Benigni (dir.), Roberto Benigni, Nicoletta Braschi\n",
      "26 - The Green Mile (1999) - Starring: Frank Darabont (dir.), Tom Hanks, Michael Clarke Duncan\n",
      "27 - Interstellar (2014) - Starring: Christopher Nolan (dir.), Matthew McConaughey, Anne Hathaway\n",
      "28 - Star Wars (1977) - Starring: George Lucas (dir.), Mark Hamill, Harrison Ford\n",
      "29 - Terminator 2: Judgment Day (1991) - Starring: James Cameron (dir.), Arnold Schwarzenegger, Linda Hamilton\n",
      "30 - Back to the Future (1985) - Starring: Robert Zemeckis (dir.), Michael J. Fox, Christopher Lloyd\n",
      "31 - Sen to Chihiro no kamikakushi (2001) - Starring: Hayao Miyazaki (dir.), Daveigh Chase, Suzanne Pleshette\n",
      "32 - Psycho (1960) - Starring: Alfred Hitchcock (dir.), Anthony Perkins, Janet Leigh\n",
      "33 - The Pianist (2002) - Starring: Roman Polanski (dir.), Adrien Brody, Thomas Kretschmann\n",
      "34 - Léon (1994) - Starring: Luc Besson (dir.), Jean Reno, Gary Oldman\n",
      "35 - Gisaengchung (2019) - Starring: Bong Joon Ho (dir.), Song Kang-ho, Lee Sun-kyun\n",
      "36 - The Lion King (1994) - Starring: Roger Allers (dir.), Matthew Broderick, Jeremy Irons\n",
      "37 - Gladiator (2000) - Starring: Ridley Scott (dir.), Russell Crowe, Joaquin Phoenix\n",
      "38 - American History X (1998) - Starring: Tony Kaye (dir.), Edward Norton, Edward Furlong\n",
      "39 - The Departed (2006) - Starring: Martin Scorsese (dir.), Leonardo DiCaprio, Matt Damon\n",
      "40 - The Usual Suspects (1995) - Starring: Bryan Singer (dir.), Kevin Spacey, Gabriel Byrne\n",
      "41 - The Prestige (2006) - Starring: Christopher Nolan (dir.), Christian Bale, Hugh Jackman\n",
      "42 - Casablanca (1942) - Starring: Michael Curtiz (dir.), Humphrey Bogart, Ingrid Bergman\n",
      "43 - Whiplash (2014) - Starring: Damien Chazelle (dir.), Miles Teller, J.K. Simmons\n",
      "44 - The Intouchables (2011) - Starring: Olivier Nakache (dir.), François Cluzet, Omar Sy\n",
      "45 - Seppuku (1962) - Starring: Masaki Kobayashi (dir.), Tatsuya Nakadai, Akira Ishihama\n",
      "46 - Hotaru no haka (1988) - Starring: Isao Takahata (dir.), Tsutomu Tatsumi, Ayano Shiraishi\n",
      "47 - Modern Times (1936) - Starring: Charles Chaplin (dir.), Charles Chaplin, Paulette Goddard\n",
      "48 - Once Upon a Time in the West (1968) - Starring: Sergio Leone (dir.), Henry Fonda, Charles Bronson\n",
      "49 - Rear Window (1954) - Starring: Alfred Hitchcock (dir.), James Stewart, Grace Kelly\n",
      "50 - Alien (1979) - Starring: Ridley Scott (dir.), Sigourney Weaver, Tom Skerritt\n",
      "51 - City Lights (1931) - Starring: Charles Chaplin (dir.), Charles Chaplin, Virginia Cherrill\n",
      "52 - Nuovo Cinema Paradiso (1988) - Starring: Giuseppe Tornatore (dir.), Philippe Noiret, Enzo Cannavale\n",
      "53 - Apocalypse Now (1979) - Starring: Francis Ford Coppola (dir.), Martin Sheen, Marlon Brando\n",
      "54 - Memento (2000) - Starring: Christopher Nolan (dir.), Guy Pearce, Carrie-Anne Moss\n",
      "55 - Raiders of the Lost Ark (1981) - Starring: Steven Spielberg (dir.), Harrison Ford, Karen Allen\n",
      "56 - Django Unchained (2012) - Starring: Quentin Tarantino (dir.), Jamie Foxx, Christoph Waltz\n",
      "57 - WALL·E (2008) - Starring: Andrew Stanton (dir.), Ben Burtt, Elissa Knight\n",
      "58 - The Lives of Others (2006) - Starring: Florian Henckel von Donnersmarck (dir.), Ulrich Mühe, Martina Gedeck\n",
      "59 - Sunset Blvd (1950) - Starring: Billy Wilder (dir.), William Holden, Gloria Swanson\n",
      "60 - Paths of Glory (1957) - Starring: Stanley Kubrick (dir.), Kirk Douglas, Ralph Meeker\n",
      "61 - The Shining (1980) - Starring: Stanley Kubrick (dir.), Jack Nicholson, Shelley Duvall\n",
      "62 - The Great Dictator (1940) - Starring: Charles Chaplin (dir.), Charles Chaplin, Paulette Goddard\n",
      "63 - Avengers: Infinity War (2018) - Starring: Anthony Russo (dir.), Robert Downey Jr., Chris Hemsworth\n",
      "64 - Witness for the Prosecution (1957) - Starring: Billy Wilder (dir.), Tyrone Power, Marlene Dietrich\n",
      "65 - Top Gun: Maverick (2022) - Starring: Joseph Kosinski (dir.), Tom Cruise, Jennifer Connelly\n",
      "66 - Aliens (1986) - Starring: James Cameron (dir.), Sigourney Weaver, Michael Biehn\n",
      "67 - American Beauty (1999) - Starring: Sam Mendes (dir.), Kevin Spacey, Annette Bening\n",
      "68 - Dr Strangelove or: How I Learned to Stop Worrying and Love the Bomb (1964) - Starring: Stanley Kubrick (dir.), Peter Sellers, George C. Scott\n",
      "69 - Spider-Man: Into the Spider-Verse (2018) - Starring: Bob Persichetti (dir.), Shameik Moore, Jake Johnson\n",
      "70 - The Dark Knight Rises (2012) - Starring: Christopher Nolan (dir.), Christian Bale, Tom Hardy\n",
      "71 - Oldeuboi (2003) - Starring: Park Chan-wook (dir.), Choi Min-sik, Yoo Ji-tae\n",
      "72 - Joker (2019) - Starring: Todd Phillips (dir.), Joaquin Phoenix, Robert De Niro\n",
      "73 - Amadeus (1984) - Starring: Milos Forman (dir.), F. Murray Abraham, Tom Hulce\n",
      "74 - Braveheart (1995) - Starring: Mel Gibson (dir.), Mel Gibson, Sophie Marceau\n",
      "75 - Toy Story (1995) - Starring: John Lasseter (dir.), Tom Hanks, Tim Allen\n",
      "76 - Inglourious Basterds (2009) - Starring: Quentin Tarantino (dir.), Brad Pitt, Diane Kruger\n",
      "77 - Coco (2017) - Starring: Lee Unkrich (dir.), Anthony Gonzalez, Gael García Bernal\n",
      "78 - Das Boot (1981) - Starring: Wolfgang Petersen (dir.), Jürgen Prochnow, Herbert Grönemeyer\n",
      "79 - Mononoke-hime (1997) - Starring: Hayao Miyazaki (dir.), Yôji Matsuda, Yuriko Ishida\n",
      "80 - Avengers: Endgame (2019) - Starring: Anthony Russo (dir.), Robert Downey Jr., Chris Evans\n",
      "81 - Once Upon a Time in America (1984) - Starring: Sergio Leone (dir.), Robert De Niro, James Woods\n",
      "82 - Good Will Hunting (1997) - Starring: Gus Van Sant (dir.), Robin Williams, Matt Damon\n",
      "83 - Kimi no na wa (2016) - Starring: Makoto Shinkai (dir.), Ryûnosuke Kamiki, Mone Kamishiraishi\n",
      "84 - Requiem for a Dream (2000) - Starring: Darren Aronofsky (dir.), Ellen Burstyn, Jared Leto\n",
      "85 - Toy Story 3 (2010) - Starring: Lee Unkrich (dir.), Tom Hanks, Tim Allen\n",
      "86 - Singin' in the Rain (1952) - Starring: Stanley Donen (dir.), Gene Kelly, Donald O'Connor\n",
      "87 - 3 Idiots (2009) - Starring: Rajkumar Hirani (dir.), Aamir Khan, Madhavan\n",
      "88 - Tengoku to jigoku (1963) - Starring: Akira Kurosawa (dir.), Toshirô Mifune, Yutaka Sada\n",
      "89 - Star Wars: Episode VI - Return of the Jedi (1983) - Starring: Richard Marquand (dir.), Mark Hamill, Harrison Ford\n",
      "90 - 2001: A Space Odyssey (1968) - Starring: Stanley Kubrick (dir.), Keir Dullea, Gary Lockwood\n",
      "91 - Eternal Sunshine of the Spotless Mind (2004) - Starring: Michel Gondry (dir.), Jim Carrey, Kate Winslet\n",
      "92 - Reservoir Dogs (1992) - Starring: Quentin Tarantino (dir.), Harvey Keitel, Tim Roth\n",
      "93 - Capharnaüm (2018) - Starring: Nadine Labaki (dir.), Zain Al Rafeea, Yordanos Shiferaw\n",
      "94 - Jagten (2012) - Starring: Thomas Vinterberg (dir.), Mads Mikkelsen, Thomas Bo Larsen\n",
      "95 - Lawrence of Arabia (1962) - Starring: David Lean (dir.), Peter O'Toole, Alec Guinness\n",
      "96 - Citizen Kane (1941) - Starring: Orson Welles (dir.), Orson Welles, Joseph Cotten\n",
      "97 - M - Eine Stadt sucht einen Mörder (1931) - Starring: Fritz Lang (dir.), Peter Lorre, Ellen Widmann\n",
      "98 - North by Northwest (1959) - Starring: Alfred Hitchcock (dir.), Cary Grant, Eva Marie Saint\n",
      "99 - Idi i smotri (1985) - Starring: Elem Klimov (dir.), Aleksey Kravchenko, Olga Mironova\n",
      "10 -  Vertigo (1958) - Starring: Alfred Hitchcock (dir.), James Stewart, Kim Novak\n",
      "101 - Le fabuleux destin d'Amélie Poulain (2001) - Starring: Jean-Pierre Jeunet (dir.), Audrey Tautou, Mathieu Kassovitz\n",
      "102 - A Clockwork Orange (1971) - Starring: Stanley Kubrick (dir.), Malcolm McDowell, Patrick Magee\n",
      "103 - Double Indemnity (1944) - Starring: Billy Wilder (dir.), Fred MacMurray, Barbara Stanwyck\n",
      "104 - Full Metal Jacket (1987) - Starring: Stanley Kubrick (dir.), Matthew Modine, R. Lee Ermey\n",
      "105 - The Apartment (1960) - Starring: Billy Wilder (dir.), Jack Lemmon, Shirley MacLaine\n",
      "106 - Ikiru (1952) - Starring: Akira Kurosawa (dir.), Takashi Shimura, Nobuo Kaneko\n",
      "107 - Scarface (1983) - Starring: Brian De Palma (dir.), Al Pacino, Michelle Pfeiffer\n",
      "108 - The Sting (1973) - Starring: George Roy Hill (dir.), Paul Newman, Robert Redford\n",
      "109 - To Kill a Mockingbird (1962) - Starring: Robert Mulligan (dir.), Gregory Peck, John Megna\n",
      "110 - Taxi Driver (1976) - Starring: Martin Scorsese (dir.), Robert De Niro, Jodie Foster\n",
      "111 - Heat (1995) - Starring: Michael Mann (dir.), Al Pacino, Robert De Niro\n",
      "112 - Up (2009) - Starring: Pete Docter (dir.), Edward Asner, Jordan Nagai\n",
      "113 - LA Confidential (1997) - Starring: Curtis Hanson (dir.), Kevin Spacey, Russell Crowe\n",
      "114 - Incendies (2010) - Starring: Denis Villeneuve (dir.), Lubna Azabal, Mélissa Désormeaux-Poulin\n",
      "115 - Metropolis (1927) - Starring: Fritz Lang (dir.), Brigitte Helm, Alfred Abel\n",
      "116 - Jodaeiye Nader az Simin (2011) - Starring: Asghar Farhadi (dir.), Payman Maadi, Leila Hatami\n",
      "117 - Hamilton (2020) - Starring: Thomas Kail (dir.), Lin-Manuel Miranda, Phillipa Soo\n",
      "118 - Die Hard (1988) - Starring: John McTiernan (dir.), Bruce Willis, Alan Rickman\n",
      "119 - Snatch (2000) - Starring: Guy Ritchie (dir.), Jason Statham, Brad Pitt\n",
      "120 - Indiana Jones and the Last Crusade (1989) - Starring: Steven Spielberg (dir.), Harrison Ford, Sean Connery\n",
      "121 - Ladri di biciclette (1948) - Starring: Vittorio De Sica (dir.), Lamberto Maggiorani, Enzo Staiola\n",
      "122 - 1917 (2019) - Starring: Sam Mendes (dir.), Dean-Charles Chapman, George MacKay\n",
      "123 - Taare Zameen Par (2007) - Starring: Aamir Khan (dir.), Darsheel Safary, Aamir Khan\n",
      "124 - Der Untergang (2004) - Starring: Oliver Hirschbiegel (dir.), Bruno Ganz, Alexandra Maria Lara\n",
      "125 - Per qualche dollaro in più (1965) - Starring: Sergio Leone (dir.), Clint Eastwood, Lee Van Cleef\n",
      "126 - Batman Begins (2005) - Starring: Christopher Nolan (dir.), Christian Bale, Michael Caine\n",
      "127 - Dangal (2016) - Starring: Nitesh Tiwari (dir.), Aamir Khan, Sakshi Tanwar\n",
      "128 - The Kid (1921) - Starring: Charles Chaplin (dir.), Charles Chaplin, Edna Purviance\n",
      "129 - Some Like It Hot (1959) - Starring: Billy Wilder (dir.), Marilyn Monroe, Tony Curtis\n",
      "130 - All About Eve (1950) - Starring: Joseph L. Mankiewicz (dir.), Bette Davis, Anne Baxter\n",
      "131 - The Father (2020) - Starring: Florian Zeller (dir.), Anthony Hopkins, Olivia Colman\n",
      "132 - Green Book (2018) - Starring: Peter Farrelly (dir.), Viggo Mortensen, Mahershala Ali\n",
      "133 - The Wolf of Wall Street (2013) - Starring: Martin Scorsese (dir.), Leonardo DiCaprio, Jonah Hill\n",
      "134 - Judgment at Nuremberg (1961) - Starring: Stanley Kramer (dir.), Spencer Tracy, Burt Lancaster\n",
      "135 - Spider-Man: No Way Home (2021) - Starring: Jon Watts (dir.), Tom Holland, Zendaya\n",
      "136 - Ran (1985) - Starring: Akira Kurosawa (dir.), Tatsuya Nakadai, Akira Terao\n",
      "137 - Casino (1995) - Starring: Martin Scorsese (dir.), Robert De Niro, Sharon Stone\n",
      "138 - Unforgiven (1992) - Starring: Clint Eastwood (dir.), Clint Eastwood, Gene Hackman\n",
      "139 - Pan's Labyrinth (2006) - Starring: Guillermo del Toro (dir.), Ivana Baquero, Ariadna Gil\n",
      "140 - There Will Be Blood (2007) - Starring: Paul Thomas Anderson (dir.), Daniel Day-Lewis, Paul Dano\n",
      "141 - The Truman Show (1998) - Starring: Peter Weir (dir.), Jim Carrey, Ed Harris\n",
      "142 - The Sixth Sense (1999) - Starring: M. Night Shyamalan (dir.), Bruce Willis, Haley Joel Osment\n",
      "143 - A Beautiful Mind (2001) - Starring: Ron Howard (dir.), Russell Crowe, Ed Harris\n",
      "144 - Monty Python and the Holy Grail (1975) - Starring: Terry Gilliam (dir.), Graham Chapman, John Cleese\n",
      "145 - Yôjinbô (1961) - Starring: Akira Kurosawa (dir.), Toshirô Mifune, Eijirô Tôno\n",
      "146 - The Treasure of the Sierra Madre (1948) - Starring: John Huston (dir.), Humphrey Bogart, Walter Huston\n",
      "147 - Shutter Island (2010) - Starring: Martin Scorsese (dir.), Leonardo DiCaprio, Emily Mortimer\n",
      "148 - Jurassic Park (1993) - Starring: Steven Spielberg (dir.), Sam Neill, Laura Dern\n",
      "149 - Rashômon (1950) - Starring: Akira Kurosawa (dir.), Toshirô Mifune, Machiko Kyô\n",
      "150 - The Great Escape (1963) - Starring: John Sturges (dir.), Steve McQueen, James Garner\n",
      "151 - Kill Bill: Vol 1 (2003) - Starring: Quentin Tarantino (dir.), Uma Thurman, David Carradine\n",
      "152 - No Country for Old Men (2007) - Starring: Ethan Coen (dir.), Tommy Lee Jones, Javier Bardem\n",
      "153 - Finding Nemo (2003) - Starring: Andrew Stanton (dir.), Albert Brooks, Ellen DeGeneres\n",
      "154 - The Elephant Man (1980) - Starring: David Lynch (dir.), Anthony Hopkins, John Hurt\n",
      "155 - Chinatown (1974) - Starring: Roman Polanski (dir.), Jack Nicholson, Faye Dunaway\n",
      "156 - Raging Bull (1980) - Starring: Martin Scorsese (dir.), Robert De Niro, Cathy Moriarty\n",
      "157 - The Thing (1982) - Starring: John Carpenter (dir.), Kurt Russell, Wilford Brimley\n",
      "158 - Gone with the Wind (1939) - Starring: Victor Fleming (dir.), Clark Gable, Vivien Leigh\n",
      "159 - V for Vendetta (2005) - Starring: James McTeigue (dir.), Hugo Weaving, Natalie Portman\n",
      "160 - Inside Out (2015) - Starring: Pete Docter (dir.), Amy Poehler, Bill Hader\n",
      "161 - Lock, Stock and Two Smoking Barrels (1998) - Starring: Guy Ritchie (dir.), Jason Flemyng, Dexter Fletcher\n",
      "162 - Dial M for Murder (1954) - Starring: Alfred Hitchcock (dir.), Ray Milland, Grace Kelly\n",
      "163 - El secreto de sus ojos (2009) - Starring: Juan José Campanella (dir.), Ricardo Darín, Soledad Villamil\n",
      "164 - Hauru no ugoku shiro (2004) - Starring: Hayao Miyazaki (dir.), Chieko Baishô, Takuya Kimura\n",
      "165 - The Bridge on the River Kwai (1957) - Starring: David Lean (dir.), William Holden, Alec Guinness\n",
      "166 - Three Billboards Outside Ebbing, Missouri (2017) - Starring: Martin McDonagh (dir.), Frances McDormand, Woody Harrelson\n",
      "167 - Trainspotting (1996) - Starring: Danny Boyle (dir.), Ewan McGregor, Ewen Bremner\n",
      "168 - Warrior (2011) - Starring: Gavin O'Connor (dir.), Tom Hardy, Nick Nolte\n",
      "169 - Gran Torino (2008) - Starring: Clint Eastwood (dir.), Clint Eastwood, Bee Vang\n",
      "170 - Fargo (1996) - Starring: Joel Coen (dir.), William H. Macy, Frances McDormand\n",
      "171 - Prisoners (2013) - Starring: Denis Villeneuve (dir.), Hugh Jackman, Jake Gyllenhaal\n",
      "172 - Tonari no Totoro (1988) - Starring: Hayao Miyazaki (dir.), Hitoshi Takagi, Noriko Hidaka\n",
      "173 - Million Dollar Baby (2004) - Starring: Clint Eastwood (dir.), Hilary Swank, Clint Eastwood\n",
      "174 - Catch Me If You Can (2002) - Starring: Steven Spielberg (dir.), Leonardo DiCaprio, Tom Hanks\n",
      "175 - The Gold Rush (1925) - Starring: Charles Chaplin (dir.), Charles Chaplin, Mack Swain\n",
      "176 - Blade Runner (1982) - Starring: Ridley Scott (dir.), Harrison Ford, Rutger Hauer\n",
      "177 - On the Waterfront (1954) - Starring: Elia Kazan (dir.), Marlon Brando, Karl Malden\n",
      "178 - Bacheha-Ye aseman (1997) - Starring: Majid Majidi (dir.), Mohammad Amir Naji, Amir Farrokh Hashemian\n",
      "179 - The Third Man (1949) - Starring: Carol Reed (dir.), Orson Welles, Joseph Cotten\n",
      "180 - Before Sunrise (1995) - Starring: Richard Linklater (dir.), Ethan Hawke, Julie Delpy\n",
      "181 - Ben-Hur (1959) - Starring: William Wyler (dir.), Charlton Heston, Jack Hawkins\n",
      "182 - 12 Years a Slave (2013) - Starring: Steve McQueen (dir.), Chiwetel Ejiofor, Michael Kenneth Williams\n",
      "183 - Smultronstället (1957) - Starring: Ingmar Bergman (dir.), Victor Sjöström, Bibi Andersson\n",
      "184 - Harry Potter and the Deathly Hallows: Part 2 (2011) - Starring: David Yates (dir.), Daniel Radcliffe, Emma Watson\n",
      "185 - Gone Girl (2014) - Starring: David Fincher (dir.), Ben Affleck, Rosamund Pike\n",
      "186 - The General (1926) - Starring: Clyde Bruckman (dir.), Buster Keaton, Marion Mack\n",
      "187 - The Deer Hunter (1978) - Starring: Michael Cimino (dir.), Robert De Niro, Christopher Walken\n",
      "188 - In the Name of the Father (1993) - Starring: Jim Sheridan (dir.), Daniel Day-Lewis, Pete Postlethwaite\n",
      "189 - The Grand Budapest Hotel (2014) - Starring: Wes Anderson (dir.), Ralph Fiennes, F. Murray Abraham\n",
      "190 - Barry Lyndon (1975) - Starring: Stanley Kubrick (dir.), Ryan O'Neal, Marisa Berenson\n",
      "191 - Le salaire de la peur (1953) - Starring: Henri-Georges Clouzot (dir.), Yves Montand, Charles Vanel\n",
      "192 - Mr Smith Goes to Washington (1939) - Starring: Frank Capra (dir.), James Stewart, Jean Arthur\n",
      "193 - Sherlock Jr (1924) - Starring: Buster Keaton (dir.), Buster Keaton, Kathryn McGuire\n",
      "194 - Hacksaw Ridge (2016) - Starring: Mel Gibson (dir.), Andrew Garfield, Sam Worthington\n",
      "195 - Salinui chueok (2003) - Starring: Bong Joon Ho (dir.), Song Kang-ho, Kim Sang-kyung\n",
      "196 - Klaus (2019) - Starring: Sergio Pablos (dir.), Jason Schwartzman, J.K. Simmons\n",
      "197 - Relatos salvajes (2014) - Starring: Damián Szifron (dir.), Darío Grandinetti, María Marull\n",
      "198 - Det sjunde inseglet (1957) - Starring: Ingmar Bergman (dir.), Max von Sydow, Gunnar Björnstrand\n",
      "199 - Room (2015) - Starring: Lenny Abrahamson (dir.), Brie Larson, Jacob Tremblay\n",
      "200 - Everything Everywhere All at Once (2022) - Starring: Dan Kwan (dir.), Michelle Yeoh, Stephanie Hsu\n",
      "201 - Mad Max: Fury Road (2015) - Starring: George Miller (dir.), Tom Hardy, Charlize Theron\n",
      "202 - How to Train Your Dragon (2010) - Starring: Dean DeBlois (dir.), Jay Baruchel, Gerard Butler\n",
      "203 - The Big Lebowski (1998) - Starring: Joel Coen (dir.), Jeff Bridges, John Goodman\n",
      "204 - Mary and Max (2009) - Starring: Adam Elliot (dir.), Toni Collette, Philip Seymour Hoffman\n",
      "205 - Jaws (1975) - Starring: Steven Spielberg (dir.), Roy Scheider, Robert Shaw\n",
      "206 - Monsters, Inc (2001) - Starring: Pete Docter (dir.), Billy Crystal, John Goodman\n",
      "207 - Tôkyô monogatari (1953) - Starring: Yasujirô Ozu (dir.), Chishû Ryû, Chieko Higashiyama\n",
      "208 - Dead Poets Society (1989) - Starring: Peter Weir (dir.), Robin Williams, Robert Sean Leonard\n",
      "209 - La passion de Jeanne d'Arc (1928) - Starring: Carl Theodor Dreyer (dir.), Maria Falconetti, Eugene Silvain\n",
      "210 - Hotel Rwanda (2004) - Starring: Terry George (dir.), Don Cheadle, Sophie Okonedo\n",
      "211 - Rocky (1976) - Starring: John G. Avildsen (dir.), Sylvester Stallone, Talia Shire\n",
      "212 - Ford v Ferrari (2019) - Starring: James Mangold (dir.), Matt Damon, Christian Bale\n",
      "213 - Platoon (1986) - Starring: Oliver Stone (dir.), Charlie Sheen, Tom Berenger\n",
      "214 - Pather Panchali (1955) - Starring: Satyajit Ray (dir.), Kanu Bannerjee, Karuna Bannerjee\n",
      "215 - Stand by Me (1986) - Starring: Rob Reiner (dir.), Wil Wheaton, River Phoenix\n",
      "216 - The Terminator (1984) - Starring: James Cameron (dir.), Arnold Schwarzenegger, Linda Hamilton\n",
      "217 - Spotlight (2015) - Starring: Tom McCarthy (dir.), Mark Ruffalo, Michael Keaton\n",
      "218 - Rush (2013) - Starring: Ron Howard (dir.), Daniel Brühl, Chris Hemsworth\n",
      "219 - Logan (2017) - Starring: James Mangold (dir.), Hugh Jackman, Patrick Stewart\n",
      "220 - Network (1976) - Starring: Sidney Lumet (dir.), Faye Dunaway, William Holden\n",
      "221 - Ratatouille (2007) - Starring: Brad Bird (dir.), Brad Garrett, Lou Romano\n",
      "222 - Into the Wild (2007) - Starring: Sean Penn (dir.), Emile Hirsch, Vince Vaughn\n",
      "223 - The Wizard of Oz (1939) - Starring: Victor Fleming (dir.), Judy Garland, Frank Morgan\n",
      "224 - Groundhog Day (1993) - Starring: Harold Ramis (dir.), Bill Murray, Andie MacDowell\n",
      "225 - Before Sunset (2004) - Starring: Richard Linklater (dir.), Ethan Hawke, Julie Delpy\n",
      "226 - The Exorcist (1973) - Starring: William Friedkin (dir.), Ellen Burstyn, Max von Sydow\n",
      "227 - The Best Years of Our Lives (1946) - Starring: William Wyler (dir.), Myrna Loy, Dana Andrews\n",
      "228 - The Incredibles (2004) - Starring: Brad Bird (dir.), Craig T. Nelson, Samuel L. Jackson\n",
      "229 - To Be or Not to Be (1942) - Starring: Ernst Lubitsch (dir.), Carole Lombard, Jack Benny\n",
      "230 - La battaglia di Algeri (1966) - Starring: Gillo Pontecorvo (dir.), Brahim Hadjadj, Jean Martin\n",
      "231 - The Grapes of Wrath (1940) - Starring: John Ford (dir.), Henry Fonda, Jane Darwell\n",
      "232 - Rebecca (1940) - Starring: Alfred Hitchcock (dir.), Laurence Olivier, Joan Fontaine\n",
      "233 - Hachi: A Dog's Tale (2009) - Starring: Lasse Hallström (dir.), Richard Gere, Joan Allen\n",
      "234 - Cool Hand Luke (1967) - Starring: Stuart Rosenberg (dir.), Paul Newman, George Kennedy\n",
      "235 - Amores perros (2000) - Starring: Alejandro G. Iñárritu (dir.), Emilio Echevarría, Gael García Bernal\n",
      "236 - Pirates of the Caribbean: The Curse of the Black Pearl (2003) - Starring: Gore Verbinski (dir.), Johnny Depp, Geoffrey Rush\n",
      "237 - Jai Bhim (2021) - Starring: T.J. Gnanavel (dir.), Suriya, Lijo Mol Jose\n",
      "238 - La haine (1995) - Starring: Mathieu Kassovitz (dir.), Vincent Cassel, Hubert Koundé\n",
      "239 - Babam ve Oglum (2005) - Starring: Cagan Irmak (dir.), Çetin Tekindor, Fikret Kuskan\n",
      "240 - Les quatre cents coups (1959) - Starring: François Truffaut (dir.), Jean-Pierre Léaud, Albert Rémy\n",
      "241 - Persona (1966) - Starring: Ingmar Bergman (dir.), Bibi Andersson, Liv Ullmann\n",
      "242 - It Happened One Night (1934) - Starring: Frank Capra (dir.), Clark Gable, Claudette Colbert\n",
      "243 - The Sound of Music (1965) - Starring: Robert Wise (dir.), Julie Andrews, Christopher Plummer\n",
      "244 - Life of Brian (1979) - Starring: Terry Jones (dir.), Graham Chapman, John Cleese\n",
      "245 - Ah-ga-ssi (2016) - Starring: Park Chan-wook (dir.), Kim Min-hee, Ha Jung-woo\n",
      "246 - Dersu Uzala (1975) - Starring: Akira Kurosawa (dir.), Maksim Munzuk, Yuriy Solomin\n",
      "247 - Aladdin (1992) - Starring: Ron Clements (dir.), Scott Weinger, Robin Williams\n",
      "248 - Gandhi (1982) - Starring: Richard Attenborough (dir.), Ben Kingsley, John Gielgud\n",
      "249 - The Help (2011) - Starring: Tate Taylor (dir.), Viola Davis, Emma Stone\n",
      "250 - The Iron Giant (1999) - Starring: Brad Bird (dir.), Eli Marienthal, Harry Connick Jr.\n"
     ]
    }
   ],
   "source": [
    "#https://bit.ly/2NyxdAG\n",
    "from bs4 import BeautifulSoup\n",
    "import requests\n",
    "import re\n",
    "\n",
    "# Download IMDB's Top 250 data\n",
    "url = 'http://www.imdb.com/chart/top'\n",
    "response = requests.get(url)\n",
    "soup = BeautifulSoup(response.text, 'lxml')\n",
    "\n",
    "movies = soup.select('td.titleColumn')\n",
    "links = [a.attrs.get('href') for a in soup.select('td.titleColumn a')]\n",
    "crew = [a.attrs.get('title') for a in soup.select('td.titleColumn a')]\n",
    "ratings = [b.attrs.get('data-value') for b in soup.select('td.posterColumn span[name=ir]')]\n",
    "votes = [b.attrs.get('data-value') for b in soup.select('td.ratingColumn strong')]\n",
    "\n",
    "imdb = []\n",
    "\n",
    "# Store each item into dictionary (data), then put those into a list (imdb)\n",
    "for index in range(0, len(movies)):\n",
    "    # Seperate movie into: 'place', 'title', 'year'\n",
    "    movie_string = movies[index].get_text()\n",
    "    movie = (' '.join(movie_string.split()).replace('.', ''))\n",
    "    movie_title = movie[len(str(index))+1:-7]\n",
    "    year = re.search('\\((.*?)\\)', movie_string).group(1)\n",
    "    place = movie[:len(str(index))-(len(movie))]\n",
    "    data = {\"movie_title\": movie_title,\n",
    "            \"year\": year,\n",
    "            \"place\": place,\n",
    "            \"star_cast\": crew[index],\n",
    "            \"rating\": ratings[index],\n",
    "            \"vote\": votes[index],\n",
    "            \"link\": links[index]}\n",
    "    imdb.append(data)\n",
    "\n",
    "for item in imdb:\n",
    "    print(item['place'], '-', item['movie_title'], '('+item['year']+') -', 'Starring:', item['star_cast'])\n",
    "  "
   ]
  },
  {
   "cell_type": "code",
   "execution_count": null,
   "id": "18852494",
   "metadata": {},
   "outputs": [],
   "source": []
  }
 ],
 "metadata": {
  "kernelspec": {
   "display_name": "Python 3",
   "language": "python",
   "name": "python3"
  },
  "language_info": {
   "codemirror_mode": {
    "name": "ipython",
    "version": 3
   },
   "file_extension": ".py",
   "mimetype": "text/x-python",
   "name": "python",
   "nbconvert_exporter": "python",
   "pygments_lexer": "ipython3",
   "version": "3.8.8"
  }
 },
 "nbformat": 4,
 "nbformat_minor": 5
}
